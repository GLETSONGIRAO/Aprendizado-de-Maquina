{
 "cells": [
  {
   "cell_type": "code",
   "execution_count": 1,
   "metadata": {},
   "outputs": [],
   "source": [
    "import pandas as pd\n",
    "import numpy as np\n",
    "import matplotlib.pyplot as plt"
   ]
  },
  {
   "cell_type": "code",
   "execution_count": 55,
   "metadata": {},
   "outputs": [
    {
     "ename": "ModuleNotFoundError",
     "evalue": "No module named 'gle_ML'",
     "output_type": "error",
     "traceback": [
      "\u001b[1;31m---------------------------------------------------------------------------\u001b[0m",
      "\u001b[1;31mModuleNotFoundError\u001b[0m                       Traceback (most recent call last)",
      "\u001b[1;32m<ipython-input-55-da0c921e8ab2>\u001b[0m in \u001b[0;36m<module>\u001b[1;34m\u001b[0m\n\u001b[1;32m----> 1\u001b[1;33m \u001b[1;32mfrom\u001b[0m \u001b[0mgle_ML\u001b[0m\u001b[1;33m.\u001b[0m\u001b[0mml_utils\u001b[0m \u001b[1;32mimport\u001b[0m \u001b[0mMSE\u001b[0m\u001b[1;33m\u001b[0m\u001b[1;33m\u001b[0m\u001b[0m\n\u001b[0m",
      "\u001b[1;31mModuleNotFoundError\u001b[0m: No module named 'gle_ML'"
     ]
    }
   ],
   "source": [
    "from gle_ML.ml_utils import MSE"
   ]
  },
  {
   "cell_type": "code",
   "execution_count": 14,
   "metadata": {},
   "outputs": [],
   "source": [
    "data = pd.read_csv('artificial1d.csv',names=['x','y'])"
   ]
  },
  {
   "cell_type": "code",
   "execution_count": 15,
   "metadata": {},
   "outputs": [
    {
     "data": {
      "text/html": [
       "<div>\n",
       "<style scoped>\n",
       "    .dataframe tbody tr th:only-of-type {\n",
       "        vertical-align: middle;\n",
       "    }\n",
       "\n",
       "    .dataframe tbody tr th {\n",
       "        vertical-align: top;\n",
       "    }\n",
       "\n",
       "    .dataframe thead th {\n",
       "        text-align: right;\n",
       "    }\n",
       "</style>\n",
       "<table border=\"1\" class=\"dataframe\">\n",
       "  <thead>\n",
       "    <tr style=\"text-align: right;\">\n",
       "      <th></th>\n",
       "      <th>x</th>\n",
       "      <th>y</th>\n",
       "    </tr>\n",
       "  </thead>\n",
       "  <tbody>\n",
       "    <tr>\n",
       "      <th>0</th>\n",
       "      <td>-1.000000</td>\n",
       "      <td>-2.082017</td>\n",
       "    </tr>\n",
       "    <tr>\n",
       "      <th>1</th>\n",
       "      <td>-0.931034</td>\n",
       "      <td>-1.326980</td>\n",
       "    </tr>\n",
       "    <tr>\n",
       "      <th>2</th>\n",
       "      <td>-0.862069</td>\n",
       "      <td>-1.105598</td>\n",
       "    </tr>\n",
       "    <tr>\n",
       "      <th>3</th>\n",
       "      <td>-0.793103</td>\n",
       "      <td>-0.873946</td>\n",
       "    </tr>\n",
       "    <tr>\n",
       "      <th>4</th>\n",
       "      <td>-0.724138</td>\n",
       "      <td>-0.285027</td>\n",
       "    </tr>\n",
       "    <tr>\n",
       "      <th>5</th>\n",
       "      <td>-0.655172</td>\n",
       "      <td>-0.431153</td>\n",
       "    </tr>\n",
       "    <tr>\n",
       "      <th>6</th>\n",
       "      <td>-0.586207</td>\n",
       "      <td>-0.794754</td>\n",
       "    </tr>\n",
       "    <tr>\n",
       "      <th>7</th>\n",
       "      <td>-0.517241</td>\n",
       "      <td>-0.886068</td>\n",
       "    </tr>\n",
       "    <tr>\n",
       "      <th>8</th>\n",
       "      <td>-0.448276</td>\n",
       "      <td>-0.899900</td>\n",
       "    </tr>\n",
       "    <tr>\n",
       "      <th>9</th>\n",
       "      <td>-0.379310</td>\n",
       "      <td>-0.861844</td>\n",
       "    </tr>\n",
       "    <tr>\n",
       "      <th>10</th>\n",
       "      <td>-0.310345</td>\n",
       "      <td>-0.888052</td>\n",
       "    </tr>\n",
       "    <tr>\n",
       "      <th>11</th>\n",
       "      <td>-0.241379</td>\n",
       "      <td>-1.235951</td>\n",
       "    </tr>\n",
       "    <tr>\n",
       "      <th>12</th>\n",
       "      <td>-0.172414</td>\n",
       "      <td>-0.719568</td>\n",
       "    </tr>\n",
       "    <tr>\n",
       "      <th>13</th>\n",
       "      <td>-0.103448</td>\n",
       "      <td>-0.452023</td>\n",
       "    </tr>\n",
       "    <tr>\n",
       "      <th>14</th>\n",
       "      <td>-0.034483</td>\n",
       "      <td>0.098900</td>\n",
       "    </tr>\n",
       "    <tr>\n",
       "      <th>15</th>\n",
       "      <td>0.034483</td>\n",
       "      <td>0.348970</td>\n",
       "    </tr>\n",
       "    <tr>\n",
       "      <th>16</th>\n",
       "      <td>0.103448</td>\n",
       "      <td>0.097478</td>\n",
       "    </tr>\n",
       "    <tr>\n",
       "      <th>17</th>\n",
       "      <td>0.172414</td>\n",
       "      <td>0.700198</td>\n",
       "    </tr>\n",
       "    <tr>\n",
       "      <th>18</th>\n",
       "      <td>0.241379</td>\n",
       "      <td>1.310512</td>\n",
       "    </tr>\n",
       "    <tr>\n",
       "      <th>19</th>\n",
       "      <td>0.310345</td>\n",
       "      <td>1.001776</td>\n",
       "    </tr>\n",
       "    <tr>\n",
       "      <th>20</th>\n",
       "      <td>0.379310</td>\n",
       "      <td>1.003182</td>\n",
       "    </tr>\n",
       "    <tr>\n",
       "      <th>21</th>\n",
       "      <td>0.448276</td>\n",
       "      <td>1.149101</td>\n",
       "    </tr>\n",
       "    <tr>\n",
       "      <th>22</th>\n",
       "      <td>0.517241</td>\n",
       "      <td>1.592206</td>\n",
       "    </tr>\n",
       "    <tr>\n",
       "      <th>23</th>\n",
       "      <td>0.586207</td>\n",
       "      <td>0.609090</td>\n",
       "    </tr>\n",
       "    <tr>\n",
       "      <th>24</th>\n",
       "      <td>0.655172</td>\n",
       "      <td>0.594416</td>\n",
       "    </tr>\n",
       "    <tr>\n",
       "      <th>25</th>\n",
       "      <td>0.724138</td>\n",
       "      <td>0.703007</td>\n",
       "    </tr>\n",
       "    <tr>\n",
       "      <th>26</th>\n",
       "      <td>0.793103</td>\n",
       "      <td>0.823322</td>\n",
       "    </tr>\n",
       "    <tr>\n",
       "      <th>27</th>\n",
       "      <td>0.862069</td>\n",
       "      <td>1.106464</td>\n",
       "    </tr>\n",
       "    <tr>\n",
       "      <th>28</th>\n",
       "      <td>0.931034</td>\n",
       "      <td>1.422957</td>\n",
       "    </tr>\n",
       "    <tr>\n",
       "      <th>29</th>\n",
       "      <td>1.000000</td>\n",
       "      <td>2.309838</td>\n",
       "    </tr>\n",
       "  </tbody>\n",
       "</table>\n",
       "</div>"
      ],
      "text/plain": [
       "           x         y\n",
       "0  -1.000000 -2.082017\n",
       "1  -0.931034 -1.326980\n",
       "2  -0.862069 -1.105598\n",
       "3  -0.793103 -0.873946\n",
       "4  -0.724138 -0.285027\n",
       "5  -0.655172 -0.431153\n",
       "6  -0.586207 -0.794754\n",
       "7  -0.517241 -0.886068\n",
       "8  -0.448276 -0.899900\n",
       "9  -0.379310 -0.861844\n",
       "10 -0.310345 -0.888052\n",
       "11 -0.241379 -1.235951\n",
       "12 -0.172414 -0.719568\n",
       "13 -0.103448 -0.452023\n",
       "14 -0.034483  0.098900\n",
       "15  0.034483  0.348970\n",
       "16  0.103448  0.097478\n",
       "17  0.172414  0.700198\n",
       "18  0.241379  1.310512\n",
       "19  0.310345  1.001776\n",
       "20  0.379310  1.003182\n",
       "21  0.448276  1.149101\n",
       "22  0.517241  1.592206\n",
       "23  0.586207  0.609090\n",
       "24  0.655172  0.594416\n",
       "25  0.724138  0.703007\n",
       "26  0.793103  0.823322\n",
       "27  0.862069  1.106464\n",
       "28  0.931034  1.422957\n",
       "29  1.000000  2.309838"
      ]
     },
     "execution_count": 15,
     "metadata": {},
     "output_type": "execute_result"
    }
   ],
   "source": [
    "data"
   ]
  },
  {
   "cell_type": "code",
   "execution_count": 23,
   "metadata": {},
   "outputs": [],
   "source": [
    "X = data['x'].to_numpy()\n",
    "y = data['y'].to_numpy()"
   ]
  },
  {
   "cell_type": "code",
   "execution_count": 24,
   "metadata": {},
   "outputs": [],
   "source": [
    "X1 = np.c_[np.ones(X.shape[0]), X]"
   ]
  },
  {
   "cell_type": "code",
   "execution_count": 31,
   "metadata": {},
   "outputs": [
    {
     "data": {
      "text/plain": [
       "array([[ 1.        , -1.        ],\n",
       "       [ 1.        , -0.93103448],\n",
       "       [ 1.        , -0.86206897],\n",
       "       [ 1.        , -0.79310345],\n",
       "       [ 1.        , -0.72413793],\n",
       "       [ 1.        , -0.65517241],\n",
       "       [ 1.        , -0.5862069 ],\n",
       "       [ 1.        , -0.51724138],\n",
       "       [ 1.        , -0.44827586],\n",
       "       [ 1.        , -0.37931034],\n",
       "       [ 1.        , -0.31034483],\n",
       "       [ 1.        , -0.24137931],\n",
       "       [ 1.        , -0.17241379],\n",
       "       [ 1.        , -0.10344828],\n",
       "       [ 1.        , -0.03448276],\n",
       "       [ 1.        ,  0.03448276],\n",
       "       [ 1.        ,  0.10344828],\n",
       "       [ 1.        ,  0.17241379],\n",
       "       [ 1.        ,  0.24137931],\n",
       "       [ 1.        ,  0.31034483],\n",
       "       [ 1.        ,  0.37931034],\n",
       "       [ 1.        ,  0.44827586],\n",
       "       [ 1.        ,  0.51724138],\n",
       "       [ 1.        ,  0.5862069 ],\n",
       "       [ 1.        ,  0.65517241],\n",
       "       [ 1.        ,  0.72413793],\n",
       "       [ 1.        ,  0.79310345],\n",
       "       [ 1.        ,  0.86206897],\n",
       "       [ 1.        ,  0.93103448],\n",
       "       [ 1.        ,  1.        ]])"
      ]
     },
     "execution_count": 31,
     "metadata": {},
     "output_type": "execute_result"
    }
   ],
   "source": [
    "X1"
   ]
  },
  {
   "cell_type": "code",
   "execution_count": 26,
   "metadata": {},
   "outputs": [
    {
     "data": {
      "text/plain": [
       "(30, 2)"
      ]
     },
     "execution_count": 26,
     "metadata": {},
     "output_type": "execute_result"
    }
   ],
   "source": [
    "X1.shape"
   ]
  },
  {
   "cell_type": "code",
   "execution_count": 33,
   "metadata": {},
   "outputs": [],
   "source": [
    "parameters = np.linalg.inv(X1.T @ X1) @ X1.T\n",
    "parameters = parameters @ y"
   ]
  },
  {
   "cell_type": "code",
   "execution_count": 34,
   "metadata": {},
   "outputs": [
    {
     "data": {
      "text/plain": [
       "(2,)"
      ]
     },
     "execution_count": 34,
     "metadata": {},
     "output_type": "execute_result"
    }
   ],
   "source": [
    "parameters.shape"
   ]
  },
  {
   "cell_type": "code",
   "execution_count": 35,
   "metadata": {},
   "outputs": [
    {
     "data": {
      "text/plain": [
       "array([0.06761792, 1.57486517])"
      ]
     },
     "execution_count": 35,
     "metadata": {},
     "output_type": "execute_result"
    }
   ],
   "source": [
    "parameters"
   ]
  },
  {
   "cell_type": "code",
   "execution_count": 36,
   "metadata": {},
   "outputs": [],
   "source": [
    "y_pred = X1 @ parameters"
   ]
  },
  {
   "cell_type": "code",
   "execution_count": 40,
   "metadata": {},
   "outputs": [
    {
     "data": {
      "text/plain": [
       "array([-1.50724724, -1.39863585, -1.29002446, -1.18141307, -1.07280168,\n",
       "       -0.96419029, -0.8555789 , -0.74696751, -0.63835612, -0.52974473,\n",
       "       -0.42113333, -0.31252194, -0.20391055, -0.09529916,  0.01331223,\n",
       "        0.12192362,  0.23053501,  0.3391464 ,  0.44775779,  0.55636918,\n",
       "        0.66498057,  0.77359197,  0.88220336,  0.99081475,  1.09942614,\n",
       "        1.20803753,  1.31664892,  1.42526031,  1.5338717 ,  1.64248309])"
      ]
     },
     "execution_count": 40,
     "metadata": {},
     "output_type": "execute_result"
    }
   ],
   "source": [
    "y_pred"
   ]
  },
  {
   "cell_type": "code",
   "execution_count": 39,
   "metadata": {},
   "outputs": [
    {
     "data": {
      "text/plain": [
       "array([-2.08201726, -1.32698023, -1.10559772, -0.87394576, -0.28502695,\n",
       "       -0.43115252, -0.79475402, -0.88606806, -0.89989978, -0.86184365,\n",
       "       -0.88805183, -1.23595129, -0.71956827, -0.45202286,  0.09889951,\n",
       "        0.34896973,  0.09747797,  0.70019809,  1.31051213,  1.00177576,\n",
       "        1.00318231,  1.14910129,  1.59220607,  0.60909009,  0.59441623,\n",
       "        0.70300732,  0.82332241,  1.10646439,  1.42295695,  2.30983768])"
      ]
     },
     "execution_count": 39,
     "metadata": {},
     "output_type": "execute_result"
    }
   ],
   "source": [
    "y"
   ]
  },
  {
   "cell_type": "code",
   "execution_count": 41,
   "metadata": {},
   "outputs": [
    {
     "data": {
      "text/plain": [
       "2.309837684059688"
      ]
     },
     "execution_count": 41,
     "metadata": {},
     "output_type": "execute_result"
    }
   ],
   "source": [
    "y.max()"
   ]
  },
  {
   "cell_type": "code",
   "execution_count": 42,
   "metadata": {},
   "outputs": [
    {
     "data": {
      "text/plain": [
       "-2.0820172572338045"
      ]
     },
     "execution_count": 42,
     "metadata": {},
     "output_type": "execute_result"
    }
   ],
   "source": [
    "y.min()"
   ]
  },
  {
   "cell_type": "code",
   "execution_count": 43,
   "metadata": {},
   "outputs": [],
   "source": [
    "y_plot = np.linspace(y.min(), y.max(), 1000)"
   ]
  },
  {
   "cell_type": "code",
   "execution_count": null,
   "metadata": {},
   "outputs": [],
   "source": [
    "x_plot = np.linspace(x.min(), x.max(), 1000)\n",
    "x_plot = np.c_[np.ones(x_plot.shape[0]), x_plot]\n",
    "parameters_plot = np.linalg.inv(x_plot.T @ x_plot) @ x_plot.T\n",
    "parameters_plot = parameters @ y"
   ]
  }
 ],
 "metadata": {
  "kernelspec": {
   "display_name": "Python 3",
   "language": "python",
   "name": "python3"
  },
  "language_info": {
   "codemirror_mode": {
    "name": "ipython",
    "version": 3
   },
   "file_extension": ".py",
   "mimetype": "text/x-python",
   "name": "python",
   "nbconvert_exporter": "python",
   "pygments_lexer": "ipython3",
   "version": "3.8.3"
  }
 },
 "nbformat": 4,
 "nbformat_minor": 4
}
