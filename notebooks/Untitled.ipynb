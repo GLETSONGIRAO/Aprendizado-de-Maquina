{
 "cells": [
  {
   "cell_type": "code",
   "execution_count": 12,
   "metadata": {},
   "outputs": [
    {
     "ename": "ImportError",
     "evalue": "attempted relative import with no known parent package",
     "output_type": "error",
     "traceback": [
      "\u001b[1;31m---------------------------------------------------------------------------\u001b[0m",
      "\u001b[1;31mImportError\u001b[0m                               Traceback (most recent call last)",
      "\u001b[1;32m<ipython-input-12-812902978698>\u001b[0m in \u001b[0;36m<module>\u001b[1;34m\u001b[0m\n\u001b[1;32m----> 1\u001b[1;33m \u001b[1;32mfrom\u001b[0m \u001b[1;33m...\u001b[0m\u001b[1;33m.\u001b[0m\u001b[0mg_ml\u001b[0m\u001b[1;33m.\u001b[0m\u001b[0mutilidades\u001b[0m\u001b[1;33m.\u001b[0m\u001b[0mmetricas\u001b[0m \u001b[1;32mimport\u001b[0m \u001b[0mMSE\u001b[0m\u001b[1;33m\u001b[0m\u001b[1;33m\u001b[0m\u001b[0m\n\u001b[0m",
      "\u001b[1;31mImportError\u001b[0m: attempted relative import with no known parent package"
     ]
    }
   ],
   "source": [
    "from .g_ml.utilidades.metricas import MSE"
   ]
  },
  {
   "cell_type": "code",
   "execution_count": 13,
   "metadata": {},
   "outputs": [
    {
     "ename": "SyntaxError",
     "evalue": "invalid syntax (<ipython-input-13-5210e975544f>, line 1)",
     "output_type": "error",
     "traceback": [
      "\u001b[1;36m  File \u001b[1;32m\"<ipython-input-13-5210e975544f>\"\u001b[1;36m, line \u001b[1;32m1\u001b[0m\n\u001b[1;33m    from . import g_ml.utilidades\u001b[0m\n\u001b[1;37m                      ^\u001b[0m\n\u001b[1;31mSyntaxError\u001b[0m\u001b[1;31m:\u001b[0m invalid syntax\n"
     ]
    }
   ],
   "source": [
    "from . import g_ml.utilidades"
   ]
  },
  {
   "cell_type": "code",
   "execution_count": 9,
   "metadata": {},
   "outputs": [
    {
     "name": "stdout",
     "output_type": "stream",
     "text": [
      " O volume na unidade C ‚ Windows8_OS\n",
      " O N£mero de S‚rie do Volume ‚ 362E-89E4\n",
      "\n",
      " Pasta de C:\\Users\\gletsong\\Desktop\\UFC_2021.1\\projeto_am\\notebooks\n",
      "\n",
      "27/05/2021  10:02    <DIR>          .\n",
      "27/05/2021  10:02    <DIR>          ..\n",
      "27/05/2021  09:53    <DIR>          .ipynb_checkpoints\n",
      "27/05/2021  10:02             3.070 Untitled.ipynb\n",
      "               1 arquivo(s)          3.070 bytes\n",
      "               3 pasta(s)   48.547.688.448 bytes dispon¡veis\n"
     ]
    }
   ],
   "source": [
    "%ls"
   ]
  },
  {
   "cell_type": "code",
   "execution_count": 5,
   "metadata": {},
   "outputs": [],
   "source": [
    "import sys"
   ]
  },
  {
   "cell_type": "code",
   "execution_count": 6,
   "metadata": {},
   "outputs": [
    {
     "data": {
      "text/plain": [
       "['C:\\\\Users\\\\gletsong\\\\Desktop\\\\UFC_2021.1\\\\projeto_am\\\\notebooks',\n",
       " 'C:\\\\Users\\\\gletsong\\\\anaconda3\\\\python38.zip',\n",
       " 'C:\\\\Users\\\\gletsong\\\\anaconda3\\\\DLLs',\n",
       " 'C:\\\\Users\\\\gletsong\\\\anaconda3\\\\lib',\n",
       " 'C:\\\\Users\\\\gletsong\\\\anaconda3',\n",
       " '',\n",
       " 'C:\\\\Users\\\\gletsong\\\\AppData\\\\Roaming\\\\Python\\\\Python38\\\\site-packages',\n",
       " 'C:\\\\Users\\\\gletsong\\\\anaconda3\\\\lib\\\\site-packages',\n",
       " 'C:\\\\Users\\\\gletsong\\\\anaconda3\\\\lib\\\\site-packages\\\\win32',\n",
       " 'C:\\\\Users\\\\gletsong\\\\anaconda3\\\\lib\\\\site-packages\\\\win32\\\\lib',\n",
       " 'C:\\\\Users\\\\gletsong\\\\anaconda3\\\\lib\\\\site-packages\\\\Pythonwin',\n",
       " 'C:\\\\Users\\\\gletsong\\\\anaconda3\\\\lib\\\\site-packages\\\\IPython\\\\extensions',\n",
       " 'C:\\\\Users\\\\gletsong\\\\.ipython']"
      ]
     },
     "execution_count": 6,
     "metadata": {},
     "output_type": "execute_result"
    }
   ],
   "source": [
    "sys.path"
   ]
  },
  {
   "cell_type": "code",
   "execution_count": null,
   "metadata": {},
   "outputs": [],
   "source": []
  }
 ],
 "metadata": {
  "kernelspec": {
   "display_name": "Python 3",
   "language": "python",
   "name": "python3"
  },
  "language_info": {
   "codemirror_mode": {
    "name": "ipython",
    "version": 3
   },
   "file_extension": ".py",
   "mimetype": "text/x-python",
   "name": "python",
   "nbconvert_exporter": "python",
   "pygments_lexer": "ipython3",
   "version": "3.8.3"
  }
 },
 "nbformat": 4,
 "nbformat_minor": 4
}
