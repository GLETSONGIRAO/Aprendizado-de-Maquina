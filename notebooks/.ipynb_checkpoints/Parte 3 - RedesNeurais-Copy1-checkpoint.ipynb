{
 "cells": [
  {
   "cell_type": "code",
   "execution_count": 27,
   "metadata": {},
   "outputs": [],
   "source": [
    "import sys\n",
    "sys.path.append('../')\n",
    "\n",
    "import pandas as pd\n",
    "import numpy as np\n",
    "import matplotlib.pyplot as plt\n",
    "\n",
    "from g_ml.utilidades.processamento import treino_teste\n",
    "from g_ml.utilidades.processamento import escala_padrao\n",
    "from g_ml.utilidades.processamento import escala_min_max\n",
    "\n",
    "\n",
    "from g_ml.utilidades.metricas import ACC\n",
    "from g_ml.utilidades.metricas import MRE\n",
    "from g_ml.utilidades.metricas import MSE\n",
    "\n",
    "from sklearn.neural_network import MLPClassifier\n",
    "from sklearn.preprocessing import OneHotEncoder\n",
    "\n",
    "np.random.seed(13)\n",
    "\n",
    "\n",
    "\n",
    "\n"
   ]
  },
  {
   "cell_type": "markdown",
   "metadata": {},
   "source": [
    "## 1. MLP para regressão  \n"
   ]
  },
  {
   "cell_type": "code",
   "execution_count": 2,
   "metadata": {},
   "outputs": [],
   "source": [
    "from sklearn.datasets import fetch_openml\n",
    "concrete = fetch_openml(data_id='4353',as_frame=True)\n",
    "X = concrete.data.iloc[:,0:8]\n",
    "y = concrete.data.iloc[:,8]"
   ]
  },
  {
   "cell_type": "code",
   "execution_count": 3,
   "metadata": {},
   "outputs": [
    {
     "data": {
      "text/html": [
       "<div>\n",
       "<style scoped>\n",
       "    .dataframe tbody tr th:only-of-type {\n",
       "        vertical-align: middle;\n",
       "    }\n",
       "\n",
       "    .dataframe tbody tr th {\n",
       "        vertical-align: top;\n",
       "    }\n",
       "\n",
       "    .dataframe thead th {\n",
       "        text-align: right;\n",
       "    }\n",
       "</style>\n",
       "<table border=\"1\" class=\"dataframe\">\n",
       "  <thead>\n",
       "    <tr style=\"text-align: right;\">\n",
       "      <th></th>\n",
       "      <th>Cement (component 1)(kg in a m^3 mixture)</th>\n",
       "      <th>Blast Furnace Slag (component 2)(kg in a m^3 mixture)</th>\n",
       "      <th>Fly Ash (component 3)(kg in a m^3 mixture)</th>\n",
       "      <th>Water  (component 4)(kg in a m^3 mixture)</th>\n",
       "      <th>Superplasticizer (component 5)(kg in a m^3 mixture)</th>\n",
       "      <th>Coarse Aggregate  (component 6)(kg in a m^3 mixture)</th>\n",
       "      <th>Fine Aggregate (component 7)(kg in a m^3 mixture)</th>\n",
       "      <th>Age (day)</th>\n",
       "    </tr>\n",
       "  </thead>\n",
       "  <tbody>\n",
       "    <tr>\n",
       "      <th>0</th>\n",
       "      <td>540.0</td>\n",
       "      <td>0.0</td>\n",
       "      <td>0.0</td>\n",
       "      <td>162.0</td>\n",
       "      <td>2.5</td>\n",
       "      <td>1040.0</td>\n",
       "      <td>676.0</td>\n",
       "      <td>28.0</td>\n",
       "    </tr>\n",
       "    <tr>\n",
       "      <th>1</th>\n",
       "      <td>540.0</td>\n",
       "      <td>0.0</td>\n",
       "      <td>0.0</td>\n",
       "      <td>162.0</td>\n",
       "      <td>2.5</td>\n",
       "      <td>1055.0</td>\n",
       "      <td>676.0</td>\n",
       "      <td>28.0</td>\n",
       "    </tr>\n",
       "  </tbody>\n",
       "</table>\n",
       "</div>"
      ],
      "text/plain": [
       "   Cement (component 1)(kg in a m^3 mixture)  \\\n",
       "0                                      540.0   \n",
       "1                                      540.0   \n",
       "\n",
       "   Blast Furnace Slag (component 2)(kg in a m^3 mixture)  \\\n",
       "0                                                0.0       \n",
       "1                                                0.0       \n",
       "\n",
       "   Fly Ash (component 3)(kg in a m^3 mixture)  \\\n",
       "0                                         0.0   \n",
       "1                                         0.0   \n",
       "\n",
       "   Water  (component 4)(kg in a m^3 mixture)  \\\n",
       "0                                      162.0   \n",
       "1                                      162.0   \n",
       "\n",
       "   Superplasticizer (component 5)(kg in a m^3 mixture)  \\\n",
       "0                                                2.5     \n",
       "1                                                2.5     \n",
       "\n",
       "   Coarse Aggregate  (component 6)(kg in a m^3 mixture)  \\\n",
       "0                                             1040.0      \n",
       "1                                             1055.0      \n",
       "\n",
       "   Fine Aggregate (component 7)(kg in a m^3 mixture)  Age (day)  \n",
       "0                                              676.0       28.0  \n",
       "1                                              676.0       28.0  "
      ]
     },
     "execution_count": 3,
     "metadata": {},
     "output_type": "execute_result"
    }
   ],
   "source": [
    "X.head(2)"
   ]
  },
  {
   "cell_type": "code",
   "execution_count": 4,
   "metadata": {},
   "outputs": [
    {
     "data": {
      "text/plain": [
       "0    79.99\n",
       "1    61.89\n",
       "Name: Concrete compressive strength(MPa. megapascals), dtype: float64"
      ]
     },
     "execution_count": 4,
     "metadata": {},
     "output_type": "execute_result"
    }
   ],
   "source": [
    "y.head(2)"
   ]
  },
  {
   "cell_type": "code",
   "execution_count": 5,
   "metadata": {},
   "outputs": [],
   "source": [
    "X = X.to_numpy()\n",
    "y = y.to_numpy()"
   ]
  },
  {
   "cell_type": "code",
   "execution_count": 6,
   "metadata": {},
   "outputs": [],
   "source": [
    "# Separação em treino e teste\n",
    "X_treino, X_teste, y_treino, y_teste = treino_teste(X, y, tamanho_teste = 0.2)\n",
    "# Seperação do treino em treino e validação → 25% para fechar em 60/20/20\n",
    "X_treino_valid, X_teste_valid, y_treino_valid, y_teste_valid = treino_teste(X_treino, y_treino, tamanho_teste = 0.25)"
   ]
  },
  {
   "cell_type": "code",
   "execution_count": 7,
   "metadata": {},
   "outputs": [],
   "source": [
    "# padronização da escala\n",
    "escalador_X = escala_min_max()\n",
    "escalador_y = escala_min_max()\n",
    "\n",
    "escalador_X.fit(X_treino_valid)\n",
    "escalador_y.fit(y_treino_valid)\n",
    "\n",
    "X_treino_valid_escalado = escalador_X.transform(X_treino_valid)\n",
    "X_teste_valid_escalado = escalador_X.transform(X_teste_valid)\n",
    "\n",
    "y_treino_valid_escalado = escalador_y.transform(y_treino_valid)\n",
    "y_teste_valid_escalado = escalador_y.transform(y_teste_valid)\n",
    "\n",
    "y_treino_escalado = escalador_y.transform(y_treino)\n",
    "y_teste_escalado = escalador_y.transform(y_teste)\n"
   ]
  },
  {
   "cell_type": "code",
   "execution_count": 8,
   "metadata": {},
   "outputs": [],
   "source": [
    "# Funções usadas pela rede neural\n",
    "def tanh(u):\n",
    "    return (np.exp(2*u) - 1)/(np.exp(2*u) + 1)\n",
    "def tanh_dif(u):\n",
    "    return 1 - np.tanh(u)**2   \n",
    "def relu(u):\n",
    "    return np.maximum(0, u)\n",
    "def relu_dif(u):\n",
    "    return (u >= 0) * 1.0            \n",
    "def afim(z):\n",
    "    return z\n",
    "def afim_dif(z):\n",
    "    return np.ones(shape=z.shape)            \n",
    "def sigmoid(z):\n",
    "    return 1 / (1 + np.exp(-z))\n",
    "def sigmoid_dif(z):\n",
    "    return sigmoid(z) * (1 - sigmoid(z))             \n",
    "def softmax(z):\n",
    "    return np.exp(z) / np.sum(np.exp(z), axis=0)[None,:]\n",
    "def softmax_dif(z):\n",
    "    return softmax(z) * (1 - softmax(z))\n",
    "\n",
    "def custo_mse(true, pred):\n",
    "    return np.mean((true - pred)**2)\n",
    "def custo_logistico(true, pred):\n",
    "    return np.mean(- true * np.log(pred) - (1 - true) * np.log(1 - pred))\n",
    "def custo_softmax(true, pred):\n",
    "    return - np.sum(true * np.log(pred)) / len(true)\n",
    "\n",
    "def RMSE(true, pred):\n",
    "    return np.sqrt(np.mean((true - pred)**2))"
   ]
  },
  {
   "cell_type": "code",
   "execution_count": 9,
   "metadata": {
    "scrolled": true
   },
   "outputs": [],
   "source": [
    "# implementação do modelo com 1 camada oculta \n",
    "class MLP_1L():\n",
    "    def __init__(self, Nh=20, momentum=0.9, t=300, taxa=0.0001, \n",
    "                 tamanho_batch= 32, phi_1 = 'tanh', phi_2 = 'afim', custo = 'mse', reg = 0.1):\n",
    "               \n",
    "        self.t = t\n",
    "        self.taxa = taxa\n",
    "        self.B = tamanho_batch\n",
    "        self.lamb = reg\n",
    "                \n",
    "        self.W = None\n",
    "        self.M = None\n",
    "        self.D = None\n",
    "        self.Nh = Nh\n",
    "        self.momentum = momentum\n",
    "        self.K = 1\n",
    "        \n",
    "        self.atv_1 = phi_1\n",
    "        self.atv_2 = phi_2\n",
    "        self.phi_1 = None\n",
    "        self.phi_2 = None\n",
    "        self.custo = custo\n",
    "        self.f_custo = None\n",
    "        \n",
    "        self.custos = []\n",
    "        self.custos_val = []\n",
    "        \n",
    "        if self.atv_1 == 'tanh':\n",
    "            self.phi_1 = np.tanh                \n",
    "            self.phi_1_dif = tanh_dif                         \n",
    "        if self.atv_1 == 'relu':\n",
    "            self.phi_1 = relu                \n",
    "            self.phi_1_dif = relu_dif                         \n",
    "                      \n",
    "        if self.atv_2 == 'afim':\n",
    "            self.phi_2 = afim          \n",
    "            self.phi_2_dif = afim_dif\n",
    "            self.f_custo = custo_mse\n",
    "            \n",
    "        if self.atv_2 == 'sigmoid':\n",
    "            self.phi_2 = sigmoid                \n",
    "            self.phi_2_dif = sigmoid_dif\n",
    "            self.f_custo = custo_logistico\n",
    "        if self.atv_2 == 'softmax': \n",
    "            self.phi_2 = softmax                \n",
    "            self.phi_2_dif = softmax_dif\n",
    "            self.f_custo = custo_softmax          \n",
    "        \n",
    "    def fit(self, X, y, X_val, y_val):\n",
    "        if self.atv_2 == 'softmax':\n",
    "            self.K = len(np.unique(y))\n",
    "        n = X.shape[0]\n",
    "        X = np.c_[np.ones(X.shape[0]), X]\n",
    "        X_val = np.c_[np.ones(X_val.shape[0]), X_val]\n",
    "        y = y.reshape(-1,1) #Apenas para faciliar os cáculos\n",
    "        y_val = y_val.reshape(-1,1)\n",
    "        self.D = X.shape[1]\n",
    "        # heurística para iniciar W e W_0 = 0\n",
    "        self.W = np.random.normal(loc= 0, scale=1,size=(self.Nh,self.D)) * np.sqrt(1/self.D)\n",
    "        self.W[:,0] = 0\n",
    "        self.M = np.random.normal(loc= 0, scale=1,size=(self.K, self.Nh+1)) * np.sqrt(1/self.Nh+1)\n",
    "        self.M[:, 0] = 0\n",
    "        W_incremento_anterior = 0\n",
    "        M_incremento_anterior = 0 \n",
    "                               \n",
    "        for epoca in range(self.t):\n",
    "            \n",
    "            # permutando os indices em cada época\n",
    "            indice_aleatorio = np.random.permutation(len(y))\n",
    "            X = X[indice_aleatorio]\n",
    "            # Separando os indices de cada mini_batch, o último minibatch completa até o final\n",
    "            index = np.arange(0, n, self.B)\n",
    "            index[-1] = n\n",
    "            # iterando em cada minibatch\n",
    "            for i in range(len(index)-1):\n",
    "                #---------Foward Pass-------------------\n",
    "                # iterando em cada batch\n",
    "                start = index[i]\n",
    "                end = index[i+1]\n",
    "                X_batch = X[start:end, : ]\n",
    "                y_batch = y[start:end]\n",
    "                Z = np.zeros([len(X_batch), self.Nh+1])\n",
    "                \n",
    "                Z[:, 0] = 1                            \n",
    "                u = X_batch @ self.W.T\n",
    "                Z[:, 1:] = self.phi_1(u)\n",
    "                r = Z @ self.M.T\n",
    "                pred = self.phi_2(r)\n",
    "                #----- Backward Pass------------\n",
    "                erro = y_batch - pred\n",
    "                delta = erro * self.phi_2_dif(r)              \n",
    "                zeta =  self.phi_1_dif(u) * (delta @ self.M[:, 1:])\n",
    "                termo_M = self.lamb*self.M\n",
    "                termo_M[:, 0] = 0\n",
    "                self.M = self.M + self.taxa * (delta.T @ Z - termo_M) +  self.momentum * M_incremento_anterior\n",
    "                M_incremento_anterior = self.taxa * (delta.T @ Z - termo_M)\n",
    "                termo_W = self.lamb*self.W\n",
    "                termo_W[:,0] = 0\n",
    "                self.W = self.W + self.taxa * (zeta.T @ X_batch - termo_W) + self.momentum * W_incremento_anterior\n",
    "                W_incremento_anterior = self.taxa * (zeta.T @ X_batch - termo_W)\n",
    "                \n",
    "                \n",
    "                #----- Foward usando o X_treino inteiro para salvar o custo do treino ----\n",
    "                \n",
    "                Z = np.zeros([len(X), self.Nh+1])\n",
    "                Z[:, 0] = 1                \n",
    "                u = X @ self.W.T\n",
    "                Z[:, 1:] = self.phi_1(u)\n",
    "                r = Z @ self.M.T\n",
    "                y_pred  = self.phi_2(r)                                 \n",
    "                loss = self.f_custo(y, y_pred)/2\n",
    "                \n",
    "                \n",
    "                self.custos.append(loss)\n",
    "                \n",
    "                #----- Foward usando o X_validação para salvar o custo da validação ----\n",
    "                \n",
    "                Z = np.zeros([len(X_val), self.Nh+1])\n",
    "                Z[:, 0] = 1                \n",
    "                u = X_val @ self.W.T\n",
    "                Z[:, 1:] = self.phi_1(u)\n",
    "                r = Z @ self.M.T\n",
    "                y_pred_val  = self.phi_2(r)\n",
    "                                 \n",
    "                loss_val = self.f_custo(y_val, y_pred_val)/2\n",
    "                self.custos_val.append(loss_val)\n",
    "                \n",
    "    def predict(self, X):\n",
    "        \n",
    "        X = np.c_[np.ones(X.shape[0]), X]        \n",
    "        Z = np.zeros([len(X), self.Nh+1])\n",
    "        Z[:, 0] = 1                \n",
    "        u = X @ self.W.T\n",
    "        Z[:, 1:] = self.phi_1(u)\n",
    "        r = Z @ self.M.T\n",
    "        y_pred  = self.phi_2(r)\n",
    "        return y_pred\n",
    "                \n",
    "                \n",
    "                \n",
    "                               \n",
    "                \n",
    "                \n",
    "                \n",
    "                \n",
    "                \n",
    "        "
   ]
  },
  {
   "cell_type": "code",
   "execution_count": 10,
   "metadata": {},
   "outputs": [],
   "source": [
    "grade = {\n",
    "    'Nh':[15 , 35 ,50,100],\n",
    "    'taxa':[0.0001 ,0.00001],\n",
    "    'reg' : [0 ,0.01, 0.1, 0.25, 0.4]\n",
    "    }\n",
    "\n",
    "def BuscaAleatoria(modelo, grade, qtd, custo):\n",
    "    \"\"\"Cria n combinações únicas de parâmetros escolhida aleatóriamente na grade e avalia o desempenho\n",
    "    de cada combinação para o modelo escolhido usando a métrica escolhida\"\"\"\n",
    "    combinacoes = []\n",
    "    \n",
    "\n",
    "    while len(combinacoes) < qtd:\n",
    "        a = {}\n",
    "        for yi in grade.keys():\n",
    "            a[yi] = np.random.choice(grade[yi])\n",
    "            if a not in combinacoes:\n",
    "                combinacoes.append(a)\n",
    "                \n",
    "    escores = []      \n",
    "    for comb in combinacoes:\n",
    "        model = modelo(**comb)\n",
    "        model.fit(X_treino_valid_escalado, y_treino_valid_escalado, X_teste_valid_escalado, y_teste_valid_escalado)\n",
    "        y_pred = model.predict(X_teste_valid_escalado)\n",
    "        y_pred = escalador_y.inversa(y_pred)\n",
    "        escores.append(custo(y_teste_valid, y_pred))\n",
    "        print(comb)\n",
    "        print(custo(y_teste_valid, y_pred))\n",
    "        print(\"----\")\n",
    "        \n",
    "    escores = np.array(escores)\n",
    "    melhor_indice = np.argmin(escores)\n",
    "    melhor = combinacoes[melhor_indice]\n",
    "        \n",
    "    return melhor, combinacoes, escores\n",
    "        "
   ]
  },
  {
   "cell_type": "markdown",
   "metadata": {},
   "source": [
    "### Buscando os melhores parâmetros usando o conjunto de validação\n"
   ]
  },
  {
   "cell_type": "code",
   "execution_count": 11,
   "metadata": {},
   "outputs": [
    {
     "name": "stdout",
     "output_type": "stream",
     "text": [
      "{'Nh': 35, 'taxa': 1e-05, 'reg': 0.0}\n",
      "20.1885801473035\n",
      "----\n",
      "{'Nh': 35, 'taxa': 1e-05, 'reg': 0.4}\n",
      "22.009237921680707\n",
      "----\n",
      "{'Nh': 35, 'taxa': 0.0001, 'reg': 0.4}\n",
      "16.287632826757072\n",
      "----\n",
      "{'Nh': 50, 'taxa': 0.0001, 'reg': 0.25}\n",
      "16.313189721548916\n",
      "----\n",
      "{'Nh': 15, 'taxa': 0.0001, 'reg': 0.01}\n",
      "16.358068529152455\n",
      "----\n",
      "{'Nh': 15, 'taxa': 1e-05, 'reg': 0.25}\n",
      "25.47409099026243\n",
      "----\n",
      "{'Nh': 50, 'taxa': 0.0001, 'reg': 0.01}\n",
      "16.417732676067892\n",
      "----\n",
      "{'Nh': 35, 'taxa': 0.0001, 'reg': 0.1}\n",
      "16.30178284521513\n",
      "----\n",
      "{'Nh': 35, 'taxa': 1e-05, 'reg': 0.1}\n",
      "16.939115081021235\n",
      "----\n",
      "{'Nh': 15, 'taxa': 0.0001, 'reg': 0.01}\n",
      "16.452124683041056\n",
      "----\n",
      "{'Nh': 50, 'taxa': 0.0001, 'reg': 0.1}\n",
      "16.434275084768945\n",
      "----\n",
      "{'Nh': 50, 'taxa': 1e-05, 'reg': 0.01}\n",
      "22.74427454070706\n",
      "----\n",
      "{'Nh': 50, 'taxa': 0.0001, 'reg': 0.0}\n",
      "16.549211439609337\n",
      "----\n",
      "{'Nh': 35, 'taxa': 1e-05, 'reg': 0.0}\n",
      "22.272730337432115\n",
      "----\n",
      "{'Nh': 15, 'taxa': 0.0001, 'reg': 0.0}\n",
      "16.433119660318297\n",
      "----\n",
      "{'Nh': 100, 'taxa': 0.0001, 'reg': 0.25}\n",
      "16.38787607377984\n",
      "----\n",
      "{'Nh': 100, 'taxa': 1e-05, 'reg': 0.1}\n",
      "18.950184424940574\n",
      "----\n",
      "{'Nh': 15, 'taxa': 1e-05, 'reg': 0.25}\n",
      "20.710447165525864\n",
      "----\n",
      "{'Nh': 50, 'taxa': 1e-05, 'reg': 0.01}\n",
      "18.23309278111365\n",
      "----\n",
      "{'Nh': 100, 'taxa': 0.0001, 'reg': 0.4}\n",
      "16.333450261785803\n",
      "----\n",
      "{'Nh': 35, 'taxa': 0.0001, 'reg': 0.4}\n",
      "16.318714241560137\n",
      "----\n",
      "{'Nh': 100, 'taxa': 1e-05, 'reg': 0.0}\n",
      "17.56922287837737\n",
      "----\n",
      "{'Nh': 15, 'taxa': 0.0001, 'reg': 0.1}\n",
      "16.620349550664244\n",
      "----\n",
      "{'Nh': 35, 'taxa': 0.0001, 'reg': 0.01}\n",
      "16.304940687139215\n",
      "----\n",
      "{'Nh': 50, 'taxa': 0.0001, 'reg': 0.25}\n",
      "16.37532180833363\n",
      "----\n",
      "{'Nh': 50, 'taxa': 0.0001, 'reg': 0.1}\n",
      "16.344098565370526\n",
      "----\n",
      "{'Nh': 100, 'taxa': 0.0001, 'reg': 0.1}\n",
      "16.313396872535456\n",
      "----\n",
      "{'Nh': 100, 'taxa': 0.0001, 'reg': 0.25}\n",
      "16.37926450540975\n",
      "----\n",
      "{'Nh': 50, 'taxa': 0.0001, 'reg': 0.01}\n",
      "16.348217340599078\n",
      "----\n",
      "{'Nh': 35, 'taxa': 0.0001, 'reg': 0.01}\n",
      "16.429804701248962\n",
      "----\n"
     ]
    }
   ],
   "source": [
    "melhor, combinacoes, escores = BuscaAleatoria(MLP_1L, grade, 30, RMSE)"
   ]
  },
  {
   "cell_type": "code",
   "execution_count": 12,
   "metadata": {},
   "outputs": [
    {
     "data": {
      "text/plain": [
       "{'Nh': 35, 'taxa': 0.0001, 'reg': 0.4}"
      ]
     },
     "execution_count": 12,
     "metadata": {},
     "output_type": "execute_result"
    }
   ],
   "source": [
    "melhor"
   ]
  },
  {
   "cell_type": "code",
   "execution_count": 13,
   "metadata": {},
   "outputs": [
    {
     "data": {
      "text/plain": [
       "2"
      ]
     },
     "execution_count": 13,
     "metadata": {},
     "output_type": "execute_result"
    }
   ],
   "source": [
    "np.argmin(escores)"
   ]
  },
  {
   "cell_type": "markdown",
   "metadata": {},
   "source": [
    "### Performance para o conjunto de validação"
   ]
  },
  {
   "cell_type": "code",
   "execution_count": 14,
   "metadata": {
    "scrolled": false
   },
   "outputs": [
    {
     "name": "stdout",
     "output_type": "stream",
     "text": [
      "O erro relativo médio é: 0.5392066263286083\n",
      "A raiz do erro quadrático médio é: 16.29847001169855\n"
     ]
    }
   ],
   "source": [
    "model = MLP_1L(**melhor)\n",
    "\n",
    "model.fit(X_treino_valid_escalado, y_treino_valid_escalado, X_teste_valid_escalado, y_teste_valid_escalado)\n",
    "y_pred = model.predict(X_teste_valid_escalado)\n",
    "y_pred = escalador_y.inversa(y_pred)\n",
    "\n",
    "\n",
    "mre = MRE(y_teste_valid, y_pred)\n",
    "RMSE = np.sqrt(MSE(y_teste_valid, y_pred))\n",
    "\n",
    "print(\"O erro relativo médio é: {}\".format(mre))\n",
    "print(\"A raiz do erro quadrático médio é: {}\".format(RMSE))\n"
   ]
  },
  {
   "cell_type": "markdown",
   "metadata": {},
   "source": [
    "**Curva de aprendizagem para treino e validação**"
   ]
  },
  {
   "cell_type": "code",
   "execution_count": 15,
   "metadata": {
    "scrolled": true
   },
   "outputs": [
    {
     "data": {
      "text/plain": [
       "<matplotlib.legend.Legend at 0x1847fc4c4f0>"
      ]
     },
     "execution_count": 15,
     "metadata": {},
     "output_type": "execute_result"
    },
    {
     "data": {
      "image/png": "[encoded data removed]",
      "text/plain": [
       "<Figure size 432x288 with 1 Axes>"
      ]
     },
     "metadata": {
      "needs_background": "light"
     },
     "output_type": "display_data"
    }
   ],
   "source": [
    "plt.plot(model.custos, label='treino')\n",
    "plt.plot(model.custos_val, label='validação')\n",
    "plt.title(\"Curva de aprendizagem: Treino vs validação\")\n",
    "plt.legend()"
   ]
  },
  {
   "cell_type": "markdown",
   "metadata": {},
   "source": [
    "### Performance para o conjunto de treino"
   ]
  },
  {
   "cell_type": "code",
   "execution_count": 16,
   "metadata": {},
   "outputs": [
    {
     "name": "stdout",
     "output_type": "stream",
     "text": [
      "O erro relativo médio é: 0.6207376622044338\n",
      "A raiz do erro quadrático médio é: 17.00795047238035\n"
     ]
    }
   ],
   "source": [
    "y_pred = model.predict(X_treino_valid_escalado)\n",
    "y_pred = escalador_y.inversa(y_pred)\n",
    "\n",
    "\n",
    "mre = MRE(y_treino_valid, y_pred)\n",
    "RMSE = np.sqrt(MSE(y_treino_valid, y_pred))\n",
    "\n",
    "print(\"O erro relativo médio é: {}\".format(mre))\n",
    "print(\"A raiz do erro quadrático médio é: {}\".format(RMSE))\n"
   ]
  },
  {
   "cell_type": "markdown",
   "metadata": {},
   "source": [
    "### Treinando o modelo usando treino e validação e avaliando no conjunto de teste"
   ]
  },
  {
   "cell_type": "code",
   "execution_count": 17,
   "metadata": {},
   "outputs": [],
   "source": [
    "escalador_X.fit(X_treino)\n",
    "escalador_y.fit(y_treino)\n",
    "\n",
    "X_treino_escalado = escalador_X.transform(X_treino)\n",
    "X_teste_escalado = escalador_X.transform(X_teste)\n",
    "\n",
    "y_treino_escalado = escalador_y.transform(y_treino)\n",
    "y_teste_escalado = escalador_y.transform(y_teste)"
   ]
  },
  {
   "cell_type": "code",
   "execution_count": 18,
   "metadata": {},
   "outputs": [
    {
     "name": "stdout",
     "output_type": "stream",
     "text": [
      "O erro relativo médio é: 0.6173152298074362\n",
      "A raiz do erro quadrático médio é: 16.23961377528403\n"
     ]
    }
   ],
   "source": [
    "model = MLP_1L(**melhor)\n",
    "\n",
    "model.fit(X_treino_escalado, y_treino_escalado, X_teste_escalado, y_teste_escalado)\n",
    "y_pred = model.predict(X_teste_escalado)\n",
    "y_pred = escalador_y.inversa(y_pred)\n",
    "\n",
    "\n",
    "mre = MRE(y_teste, y_pred)\n",
    "RMSE = np.sqrt(MSE(y_teste, y_pred))\n",
    "\n",
    "print(\"O erro relativo médio é: {}\".format(mre))\n",
    "print(\"A raiz do erro quadrático médio é: {}\".format(RMSE))\n"
   ]
  },
  {
   "cell_type": "markdown",
   "metadata": {},
   "source": [
    "# 2. MLP para classificação (usando Sklearn)"
   ]
  },
  {
   "cell_type": "code",
   "execution_count": 47,
   "metadata": {},
   "outputs": [],
   "source": [
    "from sklearn.datasets import fetch_openml\n",
    "vowel = fetch_openml(data_id='307',as_frame=True)\n",
    "X = vowel.data.iloc[:, 2:]\n",
    "y = vowel.target"
   ]
  },
  {
   "cell_type": "code",
   "execution_count": 39,
   "metadata": {},
   "outputs": [
    {
     "data": {
      "text/plain": [
       "(990, 10)"
      ]
     },
     "execution_count": 39,
     "metadata": {},
     "output_type": "execute_result"
    }
   ],
   "source": [
    "X.shape"
   ]
  },
  {
   "cell_type": "code",
   "execution_count": 40,
   "metadata": {},
   "outputs": [
    {
     "data": {
      "text/html": [
       "<div>\n",
       "<style scoped>\n",
       "    .dataframe tbody tr th:only-of-type {\n",
       "        vertical-align: middle;\n",
       "    }\n",
       "\n",
       "    .dataframe tbody tr th {\n",
       "        vertical-align: top;\n",
       "    }\n",
       "\n",
       "    .dataframe thead th {\n",
       "        text-align: right;\n",
       "    }\n",
       "</style>\n",
       "<table border=\"1\" class=\"dataframe\">\n",
       "  <thead>\n",
       "    <tr style=\"text-align: right;\">\n",
       "      <th></th>\n",
       "      <th>Feature_0</th>\n",
       "      <th>Feature_1</th>\n",
       "      <th>Feature_2</th>\n",
       "      <th>Feature_3</th>\n",
       "      <th>Feature_4</th>\n",
       "      <th>Feature_5</th>\n",
       "      <th>Feature_6</th>\n",
       "      <th>Feature_7</th>\n",
       "      <th>Feature_8</th>\n",
       "      <th>Feature_9</th>\n",
       "    </tr>\n",
       "  </thead>\n",
       "  <tbody>\n",
       "    <tr>\n",
       "      <th>0</th>\n",
       "      <td>-3.639</td>\n",
       "      <td>0.418</td>\n",
       "      <td>-0.670</td>\n",
       "      <td>1.779</td>\n",
       "      <td>-0.168</td>\n",
       "      <td>1.627</td>\n",
       "      <td>-0.388</td>\n",
       "      <td>0.529</td>\n",
       "      <td>-0.874</td>\n",
       "      <td>-0.814</td>\n",
       "    </tr>\n",
       "    <tr>\n",
       "      <th>1</th>\n",
       "      <td>-3.327</td>\n",
       "      <td>0.496</td>\n",
       "      <td>-0.694</td>\n",
       "      <td>1.365</td>\n",
       "      <td>-0.265</td>\n",
       "      <td>1.933</td>\n",
       "      <td>-0.363</td>\n",
       "      <td>0.510</td>\n",
       "      <td>-0.621</td>\n",
       "      <td>-0.488</td>\n",
       "    </tr>\n",
       "  </tbody>\n",
       "</table>\n",
       "</div>"
      ],
      "text/plain": [
       "   Feature_0  Feature_1  Feature_2  Feature_3  Feature_4  Feature_5  \\\n",
       "0     -3.639      0.418     -0.670      1.779     -0.168      1.627   \n",
       "1     -3.327      0.496     -0.694      1.365     -0.265      1.933   \n",
       "\n",
       "   Feature_6  Feature_7  Feature_8  Feature_9  \n",
       "0     -0.388      0.529     -0.874     -0.814  \n",
       "1     -0.363      0.510     -0.621     -0.488  "
      ]
     },
     "execution_count": 40,
     "metadata": {},
     "output_type": "execute_result"
    }
   ],
   "source": [
    "X.head(2)"
   ]
  },
  {
   "cell_type": "code",
   "execution_count": 53,
   "metadata": {},
   "outputs": [
    {
     "data": {
      "text/plain": [
       "0    hid\n",
       "1    hId\n",
       "2    hEd\n",
       "3    hAd\n",
       "4    hYd\n",
       "Name: Class, dtype: category\n",
       "Categories (11, object): [hid, hId, hEd, hAd, ..., hod, hUd, hud, hed]"
      ]
     },
     "execution_count": 53,
     "metadata": {},
     "output_type": "execute_result"
    }
   ],
   "source": [
    "y.head()"
   ]
  },
  {
   "cell_type": "code",
   "execution_count": 54,
   "metadata": {},
   "outputs": [],
   "source": [
    "import pandas as pd\n",
    "y = pd.get_dummies(y, prefix='target')"
   ]
  },
  {
   "cell_type": "code",
   "execution_count": 56,
   "metadata": {},
   "outputs": [
    {
     "data": {
      "text/html": [
       "<div>\n",
       "<style scoped>\n",
       "    .dataframe tbody tr th:only-of-type {\n",
       "        vertical-align: middle;\n",
       "    }\n",
       "\n",
       "    .dataframe tbody tr th {\n",
       "        vertical-align: top;\n",
       "    }\n",
       "\n",
       "    .dataframe thead th {\n",
       "        text-align: right;\n",
       "    }\n",
       "</style>\n",
       "<table border=\"1\" class=\"dataframe\">\n",
       "  <thead>\n",
       "    <tr style=\"text-align: right;\">\n",
       "      <th></th>\n",
       "      <th>target_hid</th>\n",
       "      <th>target_hId</th>\n",
       "      <th>target_hEd</th>\n",
       "      <th>target_hAd</th>\n",
       "      <th>target_hYd</th>\n",
       "      <th>target_had</th>\n",
       "      <th>target_hOd</th>\n",
       "      <th>target_hod</th>\n",
       "      <th>target_hUd</th>\n",
       "      <th>target_hud</th>\n",
       "      <th>target_hed</th>\n",
       "    </tr>\n",
       "  </thead>\n",
       "  <tbody>\n",
       "    <tr>\n",
       "      <th>0</th>\n",
       "      <td>1</td>\n",
       "      <td>0</td>\n",
       "      <td>0</td>\n",
       "      <td>0</td>\n",
       "      <td>0</td>\n",
       "      <td>0</td>\n",
       "      <td>0</td>\n",
       "      <td>0</td>\n",
       "      <td>0</td>\n",
       "      <td>0</td>\n",
       "      <td>0</td>\n",
       "    </tr>\n",
       "    <tr>\n",
       "      <th>1</th>\n",
       "      <td>0</td>\n",
       "      <td>1</td>\n",
       "      <td>0</td>\n",
       "      <td>0</td>\n",
       "      <td>0</td>\n",
       "      <td>0</td>\n",
       "      <td>0</td>\n",
       "      <td>0</td>\n",
       "      <td>0</td>\n",
       "      <td>0</td>\n",
       "      <td>0</td>\n",
       "    </tr>\n",
       "  </tbody>\n",
       "</table>\n",
       "</div>"
      ],
      "text/plain": [
       "   target_hid  target_hId  target_hEd  target_hAd  target_hYd  target_had  \\\n",
       "0           1           0           0           0           0           0   \n",
       "1           0           1           0           0           0           0   \n",
       "\n",
       "   target_hOd  target_hod  target_hUd  target_hud  target_hed  \n",
       "0           0           0           0           0           0  \n",
       "1           0           0           0           0           0  "
      ]
     },
     "execution_count": 56,
     "metadata": {},
     "output_type": "execute_result"
    }
   ],
   "source": [
    "y.head(2)"
   ]
  },
  {
   "cell_type": "code",
   "execution_count": 57,
   "metadata": {},
   "outputs": [],
   "source": [
    "X = X.to_numpy()\n",
    "y = y.to_numpy()\n"
   ]
  },
  {
   "cell_type": "code",
   "execution_count": 58,
   "metadata": {},
   "outputs": [],
   "source": [
    "# Separação em treino e teste\n",
    "X_treino, X_teste, y_treino, y_teste = treino_teste(X, y, tamanho_teste = 0.2)\n",
    "# Seperação do treino em treino e validação → 25% para fechar em 60/20/20\n",
    "X_treino_valid, X_teste_valid, y_treino_valid, y_teste_valid = treino_teste(X_treino, y_treino, tamanho_teste = 0.25)"
   ]
  },
  {
   "cell_type": "code",
   "execution_count": 65,
   "metadata": {},
   "outputs": [],
   "source": [
    "# padronização da escala\n",
    "escalador_X = escala_min_max()\n",
    "\n",
    "escalador_X.fit(X_treino_valid)\n",
    "\n",
    "X_treino_valid_escalado = escalador_X.transform(X_treino_valid)\n",
    "X_teste_valid_escalado = escalador_X.transform(X_teste_valid)"
   ]
  },
  {
   "cell_type": "code",
   "execution_count": 97,
   "metadata": {},
   "outputs": [],
   "source": [
    "model = MLPClassifier(activation= 'relu',momentum= 0.9, hidden_layer_sizes= (75,),\n",
    "                      max_iter= 20000,solver='sgd', learning_rate='adaptive', alpha=0.001)"
   ]
  },
  {
   "cell_type": "code",
   "execution_count": 98,
   "metadata": {},
   "outputs": [
    {
     "data": {
      "text/plain": [
       "{'activation': 'relu',\n",
       " 'alpha': 0.001,\n",
       " 'batch_size': 'auto',\n",
       " 'beta_1': 0.9,\n",
       " 'beta_2': 0.999,\n",
       " 'early_stopping': False,\n",
       " 'epsilon': 1e-08,\n",
       " 'hidden_layer_sizes': (75,),\n",
       " 'learning_rate': 'adaptive',\n",
       " 'learning_rate_init': 0.001,\n",
       " 'max_fun': 15000,\n",
       " 'max_iter': 20000,\n",
       " 'momentum': 0.9,\n",
       " 'n_iter_no_change': 10,\n",
       " 'nesterovs_momentum': True,\n",
       " 'power_t': 0.5,\n",
       " 'random_state': None,\n",
       " 'shuffle': True,\n",
       " 'solver': 'sgd',\n",
       " 'tol': 0.0001,\n",
       " 'validation_fraction': 0.1,\n",
       " 'verbose': False,\n",
       " 'warm_start': False}"
      ]
     },
     "execution_count": 98,
     "metadata": {},
     "output_type": "execute_result"
    }
   ],
   "source": [
    "model.get_params()"
   ]
  },
  {
   "cell_type": "code",
   "execution_count": 99,
   "metadata": {},
   "outputs": [
    {
     "data": {
      "text/plain": [
       "MLPClassifier(alpha=0.001, hidden_layer_sizes=(75,), learning_rate='adaptive',\n",
       "              max_iter=20000, solver='sgd')"
      ]
     },
     "execution_count": 99,
     "metadata": {},
     "output_type": "execute_result"
    }
   ],
   "source": [
    "model.fit(X_treino_valid_escalado, y_treino_valid)\n"
   ]
  },
  {
   "cell_type": "code",
   "execution_count": 100,
   "metadata": {},
   "outputs": [],
   "source": [
    "y_pred = model.predict(X_teste_valid_escalado)"
   ]
  },
  {
   "cell_type": "code",
   "execution_count": 101,
   "metadata": {},
   "outputs": [
    {
     "name": "stdout",
     "output_type": "stream",
     "text": [
      "0.11616161616161616\n"
     ]
    }
   ],
   "source": [
    "from sklearn.metrics import accuracy_score\n",
    "acc = accuracy_score(y_teste_valid, y_pred)\n",
    "print(acc)"
   ]
  },
  {
   "cell_type": "code",
   "execution_count": null,
   "metadata": {},
   "outputs": [],
   "source": []
  }
 ],
 "metadata": {
  "kernelspec": {
   "display_name": "Python 3",
   "language": "python",
   "name": "python3"
  },
  "language_info": {
   "codemirror_mode": {
    "name": "ipython",
    "version": 3
   },
   "file_extension": ".py",
   "mimetype": "text/x-python",
   "name": "python",
   "nbconvert_exporter": "python",
   "pygments_lexer": "ipython3",
   "version": "3.8.3"
  }
 },
 "nbformat": 4,
 "nbformat_minor": 4
}
