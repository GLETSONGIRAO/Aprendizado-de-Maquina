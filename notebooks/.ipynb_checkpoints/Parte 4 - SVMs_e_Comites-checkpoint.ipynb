{
 "cells": [
  {
   "cell_type": "code",
   "execution_count": 1,
   "metadata": {},
   "outputs": [],
   "source": [
    "import sys\n",
    "sys.path.append('../')\n",
    "\n",
    "import pandas as pd\n",
    "import numpy as np\n",
    "import matplotlib.pyplot as plt\n",
    "\n",
    "from g_ml.utilidades.processamento import treino_teste\n",
    "from g_ml.utilidades.processamento import escala_padrao\n",
    "\n",
    "from sklearn.metrics import accuracy_score\n",
    "from sklearn.metrics import precision_score\n",
    "from sklearn.metrics import recall_score\n",
    "from sklearn.metrics import f1_score\n",
    "from sklearn.metrics import plot_roc_curve\n",
    "from sklearn.metrics import plot_precision_recall_curve\n",
    "\n",
    "from sklearn.model_selection import GridSearchCV\n",
    "from sklearn.svm import SVC\n",
    "from sklearn.ensemble import RandomForestClassifier\n",
    "\n",
    "\n",
    "np.random.seed(42)\n"
   ]
  },
  {
   "cell_type": "markdown",
   "metadata": {},
   "source": [
    "### SVM e comitês de modelos "
   ]
  },
  {
   "cell_type": "code",
   "execution_count": 2,
   "metadata": {},
   "outputs": [],
   "source": [
    "# carregamentos dos dados\n",
    "bostonbin = np.genfromtxt('../data/bostonbin.csv', delimiter=',')"
   ]
  },
  {
   "cell_type": "code",
   "execution_count": 3,
   "metadata": {},
   "outputs": [],
   "source": [
    "X = bostonbin[:, 0:17]\n",
    "y = bostonbin[:, -1]"
   ]
  },
  {
   "cell_type": "code",
   "execution_count": 4,
   "metadata": {},
   "outputs": [],
   "source": [
    "# Separação em treino e teste\n",
    "X_treino, X_teste, y_treino, y_teste = treino_teste(X, y, tamanho_teste = 0.3)"
   ]
  },
  {
   "cell_type": "code",
   "execution_count": 5,
   "metadata": {},
   "outputs": [],
   "source": [
    "# padronização da escala\n",
    "escalador_X = escala_padrao()\n",
    "\n",
    "escalador_X.fit(X_treino)\n",
    "\n",
    "X_treino_escalado = escalador_X.transform(X_treino)\n",
    "X_teste_escalado = escalador_X.transform(X_teste)"
   ]
  },
  {
   "cell_type": "markdown",
   "metadata": {},
   "source": [
    "## Aplicação de Máquinas de Vetores de Suporte (SVMs) p/ Classificação"
   ]
  },
  {
   "cell_type": "code",
   "execution_count": 6,
   "metadata": {},
   "outputs": [],
   "source": [
    "# Grade de busca para algoritmo SVM\n",
    "C = [2**-5,2**-3,2**-1,2,2**2,2**4,2**6,2**8,2**10,2**12,2**14,2**16]\n",
    "gamma = [2**-15,2**-13,2**-11,2**-9,2**-7,2**-5,2**-3,2**-1,2,2**2,2**4]\n",
    "\n",
    "grade_svm = {\n",
    "    'C':C,\n",
    "    'gamma': gamma\n",
    "}"
   ]
  },
  {
   "cell_type": "code",
   "execution_count": 7,
   "metadata": {},
   "outputs": [],
   "source": [
    "svm = SVC(kernel='rbf')"
   ]
  },
  {
   "cell_type": "code",
   "execution_count": 8,
   "metadata": {},
   "outputs": [],
   "source": [
    "gscv = GridSearchCV(svm, grade_svm, cv=10)\n",
    "gscv.fit(X_treino_escalado, y_treino)\n",
    "y_pred_svm = gscv.best_estimator_.predict(X_teste_escalado)"
   ]
  },
  {
   "cell_type": "code",
   "execution_count": 9,
   "metadata": {},
   "outputs": [
    {
     "data": {
      "text/plain": [
       "{'C': 4, 'gamma': 0.03125}"
      ]
     },
     "execution_count": 9,
     "metadata": {},
     "output_type": "execute_result"
    }
   ],
   "source": [
    "gscv.best_params_"
   ]
  },
  {
   "cell_type": "markdown",
   "metadata": {},
   "source": [
    "**Avaliação no Treino**"
   ]
  },
  {
   "cell_type": "code",
   "execution_count": 10,
   "metadata": {},
   "outputs": [
    {
     "name": "stdout",
     "output_type": "stream",
     "text": [
      "A acurácia do modelo é de: 0.9154929577464789 \n",
      "A precisão do modelo é de: 0.9174757281553398\n",
      "A revocacão do modelo é de: 0.9356435643564357\n",
      "O f1_score do modelo é de: 0.926470588235294\n"
     ]
    }
   ],
   "source": [
    "y_pred_svm_treino = gscv.best_estimator_.predict(X_treino_escalado)\n",
    "\n",
    "acc = accuracy_score(y_treino, y_pred_svm_treino)\n",
    "precisao = precision_score(y_treino, y_pred_svm_treino)\n",
    "revocacao = recall_score(y_treino, y_pred_svm_treino)\n",
    "f1 = f1_score(y_treino, y_pred_svm_treino)\n",
    "\n",
    "print(\"A acurácia do modelo é de: {} \".format(acc))\n",
    "print(\"A precisão do modelo é de: {}\".format(precisao))\n",
    "print(\"A revocacão do modelo é de: {}\".format(revocacao))\n",
    "print(\"O f1_score do modelo é de: {}\".format(f1))"
   ]
  },
  {
   "cell_type": "markdown",
   "metadata": {},
   "source": [
    "**Avaliação no Teste**"
   ]
  },
  {
   "cell_type": "code",
   "execution_count": 11,
   "metadata": {},
   "outputs": [
    {
     "name": "stdout",
     "output_type": "stream",
     "text": [
      "A acurácia do modelo é de: 0.8675496688741722 \n",
      "A precisão do modelo é de: 0.8860759493670886\n",
      "A revocacão do modelo é de: 0.8641975308641975\n",
      "O f1_score do modelo é de: 0.8749999999999999\n"
     ]
    }
   ],
   "source": [
    "acc = accuracy_score(y_teste, y_pred_svm)\n",
    "precisao = precision_score(y_teste, y_pred_svm)\n",
    "revocacao = recall_score(y_teste, y_pred_svm)\n",
    "f1 = f1_score(y_teste, y_pred_svm)\n",
    "\n",
    "print(\"A acurácia do modelo é de: {} \".format(acc))\n",
    "print(\"A precisão do modelo é de: {}\".format(precisao))\n",
    "print(\"A revocacão do modelo é de: {}\".format(revocacao))\n",
    "print(\"O f1_score do modelo é de: {}\".format(f1))"
   ]
  },
  {
   "cell_type": "code",
   "execution_count": 12,
   "metadata": {},
   "outputs": [
    {
     "data": {
      "image/png": "[encoded data removed]",
      "text/plain": [
       "<Figure size 432x288 with 1 Axes>"
      ]
     },
     "metadata": {
      "needs_background": "light"
     },
     "output_type": "display_data"
    }
   ],
   "source": [
    "plot_roc_curve(gscv.best_estimator_, X_teste_escalado, y_teste)\n",
    "plt.title(\"Curva ROC para melhor SVM\")\n",
    "plt.show()"
   ]
  },
  {
   "cell_type": "code",
   "execution_count": 13,
   "metadata": {},
   "outputs": [
    {
     "data": {
      "image/png": "[encoded data removed]",
      "text/plain": [
       "<Figure size 432x288 with 1 Axes>"
      ]
     },
     "metadata": {
      "needs_background": "light"
     },
     "output_type": "display_data"
    }
   ],
   "source": [
    "plot_precision_recall_curve(gscv.best_estimator_, X_teste_escalado, y_teste)\n",
    "plt.title(\"Curva Precision-Recall para melhor SVM\")\n",
    "plt.show()"
   ]
  },
  {
   "cell_type": "markdown",
   "metadata": {},
   "source": [
    "## Aplicação de Florestas Aleatórias p/ Classificação"
   ]
  },
  {
   "cell_type": "code",
   "execution_count": 14,
   "metadata": {},
   "outputs": [],
   "source": [
    "classificadores_base = [10,20,30,40,50,60,70,80,90,100,110,120,130,140,150,160,170,180,190,200]\n",
    "profundidade_max = [2,4,6,8,None]\n",
    "\n",
    "grade_rfc = {\n",
    "    'n_estimators':classificadores_base,\n",
    "    'max_depth': profundidade_max\n",
    "}"
   ]
  },
  {
   "cell_type": "code",
   "execution_count": 15,
   "metadata": {},
   "outputs": [],
   "source": [
    "rfc  = RandomForestClassifier()"
   ]
  },
  {
   "cell_type": "code",
   "execution_count": 16,
   "metadata": {},
   "outputs": [],
   "source": [
    "gscv_rfc = GridSearchCV(rfc, grade_rfc, cv=10)\n",
    "gscv_rfc.fit(X_treino, y_treino)\n",
    "y_pred_rfc = gscv_rfc.best_estimator_.predict(X_teste)"
   ]
  },
  {
   "cell_type": "code",
   "execution_count": 17,
   "metadata": {},
   "outputs": [
    {
     "data": {
      "text/plain": [
       "{'max_depth': None, 'n_estimators': 10}"
      ]
     },
     "execution_count": 17,
     "metadata": {},
     "output_type": "execute_result"
    }
   ],
   "source": [
    "gscv_rfc.best_params_"
   ]
  },
  {
   "cell_type": "markdown",
   "metadata": {},
   "source": [
    "**Avaliação no Treino**"
   ]
  },
  {
   "cell_type": "code",
   "execution_count": 18,
   "metadata": {},
   "outputs": [
    {
     "name": "stdout",
     "output_type": "stream",
     "text": [
      "A acurácia do modelo é de: 0.9859154929577465 \n",
      "A precisão do modelo é de: 0.9949748743718593\n",
      "A revocacão do modelo é de: 0.9801980198019802\n",
      "O f1_score do modelo é de: 0.9875311720698253\n"
     ]
    }
   ],
   "source": [
    "y_pred_rfc_treino = gscv_rfc.best_estimator_.predict(X_treino)\n",
    "\n",
    "acc = accuracy_score(y_treino, y_pred_rfc_treino)\n",
    "precisao = precision_score(y_treino, y_pred_rfc_treino)\n",
    "revocacao = recall_score(y_treino, y_pred_rfc_treino)\n",
    "f1 = f1_score(y_treino, y_pred_rfc_treino)\n",
    "\n",
    "print(\"A acurácia do modelo é de: {} \".format(acc))\n",
    "print(\"A precisão do modelo é de: {}\".format(precisao))\n",
    "print(\"A revocacão do modelo é de: {}\".format(revocacao))\n",
    "print(\"O f1_score do modelo é de: {}\".format(f1))"
   ]
  },
  {
   "cell_type": "markdown",
   "metadata": {},
   "source": [
    "**Avaliação no Teste**"
   ]
  },
  {
   "cell_type": "code",
   "execution_count": 19,
   "metadata": {},
   "outputs": [
    {
     "name": "stdout",
     "output_type": "stream",
     "text": [
      "A acurácia do modelo é de: 0.8675496688741722 \n",
      "A precisão do modelo é de: 0.9178082191780822\n",
      "A revocacão do modelo é de: 0.8271604938271605\n",
      "O f1_score do modelo é de: 0.8701298701298701\n"
     ]
    }
   ],
   "source": [
    "y_pred_rfc_teste = gscv_rfc.best_estimator_.predict(X_teste)\n",
    "\n",
    "acc = accuracy_score(y_teste, y_pred_rfc_teste)\n",
    "precisao = precision_score(y_teste, y_pred_rfc_teste)\n",
    "revocacao = recall_score(y_teste, y_pred_rfc_teste)\n",
    "f1 = f1_score(y_teste, y_pred_rfc_teste)\n",
    "\n",
    "print(\"A acurácia do modelo é de: {} \".format(acc))\n",
    "print(\"A precisão do modelo é de: {}\".format(precisao))\n",
    "print(\"A revocacão do modelo é de: {}\".format(revocacao))\n",
    "print(\"O f1_score do modelo é de: {}\".format(f1))"
   ]
  },
  {
   "cell_type": "code",
   "execution_count": 20,
   "metadata": {},
   "outputs": [
    {
     "data": {
      "image/png": "[encoded data removed]",
      "text/plain": [
       "<Figure size 432x288 with 1 Axes>"
      ]
     },
     "metadata": {
      "needs_background": "light"
     },
     "output_type": "display_data"
    }
   ],
   "source": [
    "plot_roc_curve(gscv_rfc.best_estimator_, X_teste, y_teste)\n",
    "plt.title(\"Curva ROC para melhor RandomForest\")\n",
    "plt.show()"
   ]
  },
  {
   "cell_type": "code",
   "execution_count": 21,
   "metadata": {
    "scrolled": true
   },
   "outputs": [
    {
     "data": {
      "image/png": "[encoded data removed]",
      "text/plain": [
       "<Figure size 432x288 with 1 Axes>"
      ]
     },
     "metadata": {
      "needs_background": "light"
     },
     "output_type": "display_data"
    }
   ],
   "source": [
    "plot_precision_recall_curve(gscv_rfc.best_estimator_, X_teste, y_teste)\n",
    "plt.title(\"Curva Precision-Recall para melhor RandomForest\")\n",
    "plt.show()"
   ]
  },
  {
   "cell_type": "markdown",
   "metadata": {},
   "source": [
    "### Resumo\n",
    "**Modelo SVM**\n",
    "* Acurácia: 0.867\n",
    "* Precisão: 0.886\n",
    "* Revocacão: 0.864\n",
    "* f1_score: 0.870\n",
    "\n",
    "**Modelo RandomForest**\n",
    "* Acurácia: 0.867\n",
    "* Precisão: 0.917\n",
    "* Revocacão: 0.827\n",
    "* f1_score: 0.874\n"
   ]
  }
 ],
 "metadata": {
  "kernelspec": {
   "display_name": "Python 3",
   "language": "python",
   "name": "python3"
  },
  "language_info": {
   "codemirror_mode": {
    "name": "ipython",
    "version": 3
   },
   "file_extension": ".py",
   "mimetype": "text/x-python",
   "name": "python",
   "nbconvert_exporter": "python",
   "pygments_lexer": "ipython3",
   "version": "3.8.3"
  }
 },
 "nbformat": 4,
 "nbformat_minor": 4
}
