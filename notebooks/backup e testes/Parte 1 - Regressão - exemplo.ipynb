{
 "cells": [
  {
   "cell_type": "code",
   "execution_count": 1,
   "metadata": {},
   "outputs": [],
   "source": [
    "import sys\n",
    "sys.path.append('../')\n",
    "\n",
    "from g_ml.utilidades.metricas import MSE\n",
    "from g_ml.utilidades.metricas import MRE\n",
    "from g_ml.algoritmos.regressao import OLS\n",
    "\n",
    "import pandas as pd\n",
    "import numpy as np\n",
    "import matplotlib.pyplot as plt"
   ]
  },
  {
   "cell_type": "markdown",
   "metadata": {},
   "source": [
    "## Implementação na tora"
   ]
  },
  {
   "cell_type": "code",
   "execution_count": 2,
   "metadata": {},
   "outputs": [],
   "source": [
    "df = pd.read_csv('../data/artificial1d.csv', names = ['x','y'])\n",
    "X = df['x'].to_numpy()\n",
    "y = df['y'].to_numpy()"
   ]
  },
  {
   "cell_type": "code",
   "execution_count": 3,
   "metadata": {},
   "outputs": [
    {
     "data": {
      "text/plain": [
       "array([-2.08201726, -1.32698023, -1.10559772, -0.87394576, -0.28502695,\n",
       "       -0.43115252, -0.79475402, -0.88606806, -0.89989978, -0.86184365,\n",
       "       -0.88805183, -1.23595129, -0.71956827, -0.45202286,  0.09889951,\n",
       "        0.34896973,  0.09747797,  0.70019809,  1.31051213,  1.00177576,\n",
       "        1.00318231,  1.14910129,  1.59220607,  0.60909009,  0.59441623,\n",
       "        0.70300732,  0.82332241,  1.10646439,  1.42295695,  2.30983768])"
      ]
     },
     "execution_count": 3,
     "metadata": {},
     "output_type": "execute_result"
    }
   ],
   "source": [
    "y"
   ]
  },
  {
   "cell_type": "code",
   "execution_count": 4,
   "metadata": {},
   "outputs": [],
   "source": [
    "X = np.c_[np.ones(X.shape[0]), X]"
   ]
  },
  {
   "cell_type": "code",
   "execution_count": 5,
   "metadata": {},
   "outputs": [
    {
     "data": {
      "text/plain": [
       "array([[ 1.        , -1.        ],\n",
       "       [ 1.        , -0.93103448],\n",
       "       [ 1.        , -0.86206897],\n",
       "       [ 1.        , -0.79310345],\n",
       "       [ 1.        , -0.72413793],\n",
       "       [ 1.        , -0.65517241],\n",
       "       [ 1.        , -0.5862069 ],\n",
       "       [ 1.        , -0.51724138],\n",
       "       [ 1.        , -0.44827586],\n",
       "       [ 1.        , -0.37931034],\n",
       "       [ 1.        , -0.31034483],\n",
       "       [ 1.        , -0.24137931],\n",
       "       [ 1.        , -0.17241379],\n",
       "       [ 1.        , -0.10344828],\n",
       "       [ 1.        , -0.03448276],\n",
       "       [ 1.        ,  0.03448276],\n",
       "       [ 1.        ,  0.10344828],\n",
       "       [ 1.        ,  0.17241379],\n",
       "       [ 1.        ,  0.24137931],\n",
       "       [ 1.        ,  0.31034483],\n",
       "       [ 1.        ,  0.37931034],\n",
       "       [ 1.        ,  0.44827586],\n",
       "       [ 1.        ,  0.51724138],\n",
       "       [ 1.        ,  0.5862069 ],\n",
       "       [ 1.        ,  0.65517241],\n",
       "       [ 1.        ,  0.72413793],\n",
       "       [ 1.        ,  0.79310345],\n",
       "       [ 1.        ,  0.86206897],\n",
       "       [ 1.        ,  0.93103448],\n",
       "       [ 1.        ,  1.        ]])"
      ]
     },
     "execution_count": 5,
     "metadata": {},
     "output_type": "execute_result"
    }
   ],
   "source": [
    "X"
   ]
  },
  {
   "cell_type": "code",
   "execution_count": 6,
   "metadata": {},
   "outputs": [],
   "source": [
    "w = np.linalg.inv(X.T @ X) @ X.T @ y"
   ]
  },
  {
   "cell_type": "code",
   "execution_count": 7,
   "metadata": {},
   "outputs": [
    {
     "data": {
      "text/plain": [
       "array([0.06761792, 1.57486517])"
      ]
     },
     "execution_count": 7,
     "metadata": {},
     "output_type": "execute_result"
    }
   ],
   "source": [
    "w"
   ]
  },
  {
   "cell_type": "code",
   "execution_count": 8,
   "metadata": {},
   "outputs": [],
   "source": [
    "y_pred = X @ w"
   ]
  },
  {
   "cell_type": "code",
   "execution_count": 9,
   "metadata": {},
   "outputs": [
    {
     "data": {
      "text/plain": [
       "array([-1.50724724, -1.39863585, -1.29002446, -1.18141307, -1.07280168,\n",
       "       -0.96419029, -0.8555789 , -0.74696751, -0.63835612, -0.52974473,\n",
       "       -0.42113333, -0.31252194, -0.20391055, -0.09529916,  0.01331223,\n",
       "        0.12192362,  0.23053501,  0.3391464 ,  0.44775779,  0.55636918,\n",
       "        0.66498057,  0.77359197,  0.88220336,  0.99081475,  1.09942614,\n",
       "        1.20803753,  1.31664892,  1.42526031,  1.5338717 ,  1.64248309])"
      ]
     },
     "execution_count": 9,
     "metadata": {},
     "output_type": "execute_result"
    }
   ],
   "source": [
    "y_pred"
   ]
  },
  {
   "cell_type": "code",
   "execution_count": 10,
   "metadata": {},
   "outputs": [],
   "source": [
    "mse = MSE(y, y_pred)"
   ]
  },
  {
   "cell_type": "code",
   "execution_count": 11,
   "metadata": {},
   "outputs": [
    {
     "data": {
      "text/plain": [
       "0.2134009013293699"
      ]
     },
     "execution_count": 11,
     "metadata": {},
     "output_type": "execute_result"
    }
   ],
   "source": [
    "mse"
   ]
  },
  {
   "cell_type": "code",
   "execution_count": 12,
   "metadata": {},
   "outputs": [],
   "source": [
    "mse = np.mean(np.power((y - y_pred), 2))"
   ]
  },
  {
   "cell_type": "code",
   "execution_count": 13,
   "metadata": {},
   "outputs": [
    {
     "data": {
      "text/plain": [
       "0.2134009013293699"
      ]
     },
     "execution_count": 13,
     "metadata": {},
     "output_type": "execute_result"
    }
   ],
   "source": [
    "mse"
   ]
  },
  {
   "cell_type": "markdown",
   "metadata": {},
   "source": [
    "## Criando uma classe aqui mesmo"
   ]
  },
  {
   "cell_type": "code",
   "execution_count": 14,
   "metadata": {},
   "outputs": [],
   "source": [
    "class OLSS():\n",
    "    def __init__(self):\n",
    "        \n",
    "        self.w = None\n",
    "    \n",
    "    def fit(self, X, y):\n",
    "        # criando o vetor bias\n",
    "        X = np.c_[np.ones(X.shape[0]), X]\n",
    "        # atualizando o vetor de parametros de modelo\n",
    "        parametro = np.linalg.inv(X.T @ X) @ X.T @ y\n",
    "        self.w = parametro\n",
    "    \n",
    "    def predict(self, X):\n",
    "        \n",
    "        # criando o vetor bias\n",
    "        X = np.c_[np.ones(X.shape[0]), X]\n",
    "        \n",
    "        return X @ self.w\n",
    "    "
   ]
  },
  {
   "cell_type": "code",
   "execution_count": 15,
   "metadata": {},
   "outputs": [],
   "source": [
    "df = pd.read_csv('../data/artificial1d.csv', names = ['x','y'])\n",
    "X = df['x'].to_numpy()\n",
    "y = df['y'].to_numpy()"
   ]
  },
  {
   "cell_type": "code",
   "execution_count": 16,
   "metadata": {},
   "outputs": [],
   "source": [
    "model = OLSS()"
   ]
  },
  {
   "cell_type": "code",
   "execution_count": 17,
   "metadata": {},
   "outputs": [],
   "source": [
    "model.fit(X, y)"
   ]
  },
  {
   "cell_type": "code",
   "execution_count": 18,
   "metadata": {},
   "outputs": [
    {
     "data": {
      "text/plain": [
       "array([0.06761792, 1.57486517])"
      ]
     },
     "execution_count": 18,
     "metadata": {},
     "output_type": "execute_result"
    }
   ],
   "source": [
    "model.w"
   ]
  },
  {
   "cell_type": "code",
   "execution_count": 19,
   "metadata": {},
   "outputs": [],
   "source": [
    "y_pred  = model.predict(X)"
   ]
  },
  {
   "cell_type": "code",
   "execution_count": 20,
   "metadata": {},
   "outputs": [
    {
     "data": {
      "text/plain": [
       "array([-1.50724724, -1.39863585, -1.29002446, -1.18141307, -1.07280168,\n",
       "       -0.96419029, -0.8555789 , -0.74696751, -0.63835612, -0.52974473,\n",
       "       -0.42113333, -0.31252194, -0.20391055, -0.09529916,  0.01331223,\n",
       "        0.12192362,  0.23053501,  0.3391464 ,  0.44775779,  0.55636918,\n",
       "        0.66498057,  0.77359197,  0.88220336,  0.99081475,  1.09942614,\n",
       "        1.20803753,  1.31664892,  1.42526031,  1.5338717 ,  1.64248309])"
      ]
     },
     "execution_count": 20,
     "metadata": {},
     "output_type": "execute_result"
    }
   ],
   "source": [
    "y_pred"
   ]
  },
  {
   "cell_type": "code",
   "execution_count": 21,
   "metadata": {},
   "outputs": [
    {
     "data": {
      "text/plain": [
       "array([-2.08201726, -1.32698023, -1.10559772, -0.87394576, -0.28502695,\n",
       "       -0.43115252, -0.79475402, -0.88606806, -0.89989978, -0.86184365,\n",
       "       -0.88805183, -1.23595129, -0.71956827, -0.45202286,  0.09889951,\n",
       "        0.34896973,  0.09747797,  0.70019809,  1.31051213,  1.00177576,\n",
       "        1.00318231,  1.14910129,  1.59220607,  0.60909009,  0.59441623,\n",
       "        0.70300732,  0.82332241,  1.10646439,  1.42295695,  2.30983768])"
      ]
     },
     "execution_count": 21,
     "metadata": {},
     "output_type": "execute_result"
    }
   ],
   "source": [
    "y"
   ]
  },
  {
   "cell_type": "code",
   "execution_count": 22,
   "metadata": {},
   "outputs": [],
   "source": [
    "mse = MSE(y, y_pred)"
   ]
  },
  {
   "cell_type": "code",
   "execution_count": 23,
   "metadata": {},
   "outputs": [
    {
     "data": {
      "text/plain": [
       "0.2134009013293699"
      ]
     },
     "execution_count": 23,
     "metadata": {},
     "output_type": "execute_result"
    }
   ],
   "source": [
    "mse"
   ]
  },
  {
   "cell_type": "code",
   "execution_count": 24,
   "metadata": {},
   "outputs": [],
   "source": [
    "mre = MRE(y, y_pred)"
   ]
  },
  {
   "cell_type": "code",
   "execution_count": 25,
   "metadata": {},
   "outputs": [
    {
     "data": {
      "text/plain": [
       "0.5865122801771744"
      ]
     },
     "execution_count": 25,
     "metadata": {},
     "output_type": "execute_result"
    }
   ],
   "source": [
    "mre"
   ]
  },
  {
   "cell_type": "markdown",
   "metadata": {},
   "source": [
    "muito bom nota zero"
   ]
  },
  {
   "cell_type": "markdown",
   "metadata": {},
   "source": [
    "## Modularizando tudo"
   ]
  },
  {
   "cell_type": "code",
   "execution_count": 27,
   "metadata": {},
   "outputs": [],
   "source": [
    "df = pd.read_csv('../data/artificial1d.csv', names = ['x','y'])\n",
    "X = df['x'].to_numpy()\n",
    "y = df['y'].to_numpy()"
   ]
  },
  {
   "cell_type": "code",
   "execution_count": 28,
   "metadata": {},
   "outputs": [],
   "source": [
    "modelo = OLS()"
   ]
  },
  {
   "cell_type": "code",
   "execution_count": 29,
   "metadata": {},
   "outputs": [],
   "source": [
    "modelo.fit(X, y)"
   ]
  },
  {
   "cell_type": "code",
   "execution_count": 30,
   "metadata": {},
   "outputs": [
    {
     "data": {
      "text/plain": [
       "array([0.06761792, 1.57486517])"
      ]
     },
     "execution_count": 30,
     "metadata": {},
     "output_type": "execute_result"
    }
   ],
   "source": [
    "modelo.w"
   ]
  },
  {
   "cell_type": "code",
   "execution_count": 31,
   "metadata": {},
   "outputs": [],
   "source": [
    "y_pred = modelo.predict(X)"
   ]
  },
  {
   "cell_type": "code",
   "execution_count": 32,
   "metadata": {},
   "outputs": [
    {
     "name": "stdout",
     "output_type": "stream",
     "text": [
      "0.2134009013293699\n",
      "0.5865122801771744\n"
     ]
    }
   ],
   "source": [
    "mse = MSE(y, y_pred)\n",
    "mre = MRE(y, y_pred)\n",
    "\n",
    "print(mse)\n",
    "print(mre)\n"
   ]
  },
  {
   "cell_type": "code",
   "execution_count": 34,
   "metadata": {},
   "outputs": [],
   "source": [
    "X_plot = np.linspace(X.max(), X.min(), 1000)\n",
    "y_plot = modelo.predict(X_plot)"
   ]
  },
  {
   "cell_type": "code",
   "execution_count": 42,
   "metadata": {},
   "outputs": [
    {
     "data": {
      "text/plain": [
       "[<matplotlib.lines.Line2D at 0x1c9fde88a60>]"
      ]
     },
     "execution_count": 42,
     "metadata": {},
     "output_type": "execute_result"
    },
    {
     "data": {
      "image/png": "[encoded data removed]",
      "text/plain": [
       "<Figure size 432x288 with 1 Axes>"
      ]
     },
     "metadata": {
      "needs_background": "light"
     },
     "output_type": "display_data"
    }
   ],
   "source": [
    "plt.scatter(X, y)\n",
    "plt.plot(X_plot, y_plot)"
   ]
  },
  {
   "cell_type": "code",
   "execution_count": null,
   "metadata": {},
   "outputs": [],
   "source": [
    "Claramente precisamos de um modelo não linear"
   ]
  }
 ],
 "metadata": {
  "kernelspec": {
   "display_name": "Python 3",
   "language": "python",
   "name": "python3"
  },
  "language_info": {
   "codemirror_mode": {
    "name": "ipython",
    "version": 3
   },
   "file_extension": ".py",
   "mimetype": "text/x-python",
   "name": "python",
   "nbconvert_exporter": "python",
   "pygments_lexer": "ipython3",
   "version": "3.8.3"
  }
 },
 "nbformat": 4,
 "nbformat_minor": 4
}
