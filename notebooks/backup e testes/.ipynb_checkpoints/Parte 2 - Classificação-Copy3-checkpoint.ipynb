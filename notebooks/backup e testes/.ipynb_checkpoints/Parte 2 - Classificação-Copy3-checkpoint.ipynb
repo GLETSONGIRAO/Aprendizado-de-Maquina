{
 "cells": [
  {
   "cell_type": "code",
   "execution_count": 1,
   "metadata": {},
   "outputs": [],
   "source": [
    "import sys\n",
    "sys.path.append('../')\n",
    "\n",
    "import pandas as pd\n",
    "import numpy as np\n",
    "import matplotlib.pyplot as plt\n",
    "\n",
    "from g_ml.utilidades.processamento import treino_teste\n",
    "from g_ml.utilidades.processamento import escala_padrao\n",
    "\n",
    "from g_ml.utilidades.metricas import ACC\n",
    "from g_ml.utilidades.metricas import relatorio_classificacao\n",
    "from g_ml.utilidades.metricas import ValCruzada\n",
    "\n",
    "from g_ml.algoritmos.classificacao import RegressaoLogistica\n",
    "from g_ml.algoritmos.classificacao import ADG\n",
    "from g_ml.algoritmos.classificacao import NaiveBayesGaussiano\n",
    "from g_ml.algoritmos.classificacao import KNN\n",
    "from sklearn.tree import DecisionTreeClassifier\n",
    "\n",
    "\n",
    "\n",
    "\n",
    "\n"
   ]
  },
  {
   "cell_type": "markdown",
   "metadata": {},
   "source": [
    "### Sumário\n",
    "\n",
    "1. **Preparativos**\n",
    "    - Carregamento dos dados\n",
    "    - Separação em treino e teste\n",
    "    - Padronização da escala\n",
    "    - Baseline \n",
    "\n",
    "\n",
    "2. **Regressão Logística com Gradiente Descendente**\n",
    "    - Aplicação\n",
    "    - Curva de aprendizagem\n",
    "    - Avaliação sem validação cruzada\n",
    "    - Avaliação com validação cruzada\n",
    "\n",
    "3. **Análise de Discriminante Gaussiano**\n",
    "    - Aplicação\n",
    "    - Avaliação sem validação cruzada\n",
    "    - Avaliação com validação cruzada\n",
    "    \n",
    "4. **Naive Bayes Gaussiano**\n",
    "    - Aplicação\n",
    "    - Avaliação sem validação cruzada\n",
    "    - Avaliação com validação cruzada\n",
    "    \n",
    "5. **KNN**\n",
    "    - Aplicação\n",
    "    - Avaliação sem validação cruzada\n",
    "    - Avaliação com validação cruzada\n",
    "    \n",
    "6. **Árvore de decisão**\n",
    "    - Aplicação\n",
    "    - Avaliação sem validação cruzada\n",
    "    - Avaliação com validação cruzada\n"
   ]
  },
  {
   "cell_type": "code",
   "execution_count": 2,
   "metadata": {},
   "outputs": [],
   "source": [
    "from sklearn.datasets import load_breast_cancer\n",
    "X, y = load_breast_cancer(return_X_y=True)"
   ]
  },
  {
   "cell_type": "code",
   "execution_count": 3,
   "metadata": {},
   "outputs": [],
   "source": [
    "# Separação em treino e teste\n",
    "X_treino, X_teste, y_treino, y_teste = treino_teste(X, y, tamanho_teste = 0.33)"
   ]
  },
  {
   "cell_type": "code",
   "execution_count": 4,
   "metadata": {},
   "outputs": [],
   "source": [
    "escalador_X = escala_padrao()\n",
    "\n",
    "escalador_X.fit(X_treino)\n",
    "\n",
    "X_treino_escalado = escalador_X.transform(X_treino)\n",
    "X_teste_escalado = escalador_X.transform(X_teste)"
   ]
  },
  {
   "cell_type": "code",
   "execution_count": 5,
   "metadata": {},
   "outputs": [],
   "source": [
    "## Modelo dumb para baseline"
   ]
  },
  {
   "cell_type": "code",
   "execution_count": 6,
   "metadata": {},
   "outputs": [
    {
     "data": {
      "text/plain": [
       "(array([0, 1]), array([140, 242], dtype=int64))"
      ]
     },
     "execution_count": 6,
     "metadata": {},
     "output_type": "execute_result"
    }
   ],
   "source": [
    "np.unique(y_treino, return_counts=True)"
   ]
  },
  {
   "cell_type": "code",
   "execution_count": 7,
   "metadata": {},
   "outputs": [
    {
     "name": "stdout",
     "output_type": "stream",
     "text": [
      "A acurácia base de um modelo inocente é: 0.6149732620320856\n"
     ]
    }
   ],
   "source": [
    "y_base = np.ones(len(y_teste))\n",
    "print(\"A acurácia base de um modelo inocente é: {}\".format(ACC(y_base, y_teste)))"
   ]
  },
  {
   "cell_type": "markdown",
   "metadata": {},
   "source": [
    "# Regressão Logística com Gradiente Descendente"
   ]
  },
  {
   "cell_type": "code",
   "execution_count": 8,
   "metadata": {},
   "outputs": [
    {
     "name": "stdout",
     "output_type": "stream",
     "text": [
      "0.9946524064171123\n"
     ]
    }
   ],
   "source": [
    "RL = RegressaoLogistica(t= 5000)\n",
    "RL.fit(X_treino_escalado, y_treino)\n",
    "y_pred = RL.predict(X_teste_escalado)\n",
    "print(ACC(y_teste,y_pred))\n"
   ]
  },
  {
   "cell_type": "code",
   "execution_count": 9,
   "metadata": {},
   "outputs": [
    {
     "data": {
      "image/png": "[encoded data removed]",
      "text/plain": [
       "<Figure size 432x288 with 1 Axes>"
      ]
     },
     "metadata": {
      "needs_background": "light"
     },
     "output_type": "display_data"
    }
   ],
   "source": [
    "plt.plot(RL.custos)\n",
    "plt.title(\"Curva de Aprendizagem\")\n",
    "plt.show()"
   ]
  },
  {
   "cell_type": "code",
   "execution_count": 10,
   "metadata": {},
   "outputs": [],
   "source": [
    "scores = relatorio_classificacao(y_pred, y_teste)"
   ]
  },
  {
   "cell_type": "code",
   "execution_count": 11,
   "metadata": {},
   "outputs": [
    {
     "name": "stdout",
     "output_type": "stream",
     "text": [
      "A acurácia do modelo é de: 0.9946524064171123 \n",
      "A precisão do modelo é de: 1.0\n",
      "A revocacão do modelo é de: 0.991304347826087\n",
      "O f1_score do modelo é de: 0.9956331877729258\n"
     ]
    }
   ],
   "source": [
    "scores.print_scores()"
   ]
  },
  {
   "cell_type": "code",
   "execution_count": 12,
   "metadata": {
    "scrolled": true
   },
   "outputs": [
    {
     "data": {
      "image/png": "[encoded data removed]",
      "text/plain": [
       "<Figure size 864x504 with 1 Axes>"
      ]
     },
     "metadata": {},
     "output_type": "display_data"
    }
   ],
   "source": [
    "scores.plot_scores()"
   ]
  },
  {
   "cell_type": "markdown",
   "metadata": {},
   "source": [
    "**Regressão Logística utilizando VALIDAÇÃO CRUZADA**\n",
    "\n",
    "Obs: Ao reutilizar o objeto vc usamos os mesmos indices para outros X com o mesmo tamanho e outros modelos. "
   ]
  },
  {
   "cell_type": "code",
   "execution_count": 13,
   "metadata": {},
   "outputs": [
    {
     "name": "stderr",
     "output_type": "stream",
     "text": [
      "..\\g_ml\\algoritmos\\classificacao.py:25: RuntimeWarning: divide by zero encountered in log\n",
      "  custo =  np.mean(-y * np.log(y_pred) - (1-y) * np.log(1 - y_pred))\n"
     ]
    },
    {
     "name": "stdout",
     "output_type": "stream",
     "text": [
      "Acurácia média é: 0.9478407557354928 e seu desvio padrão é: 0.044691631456348226 \n",
      "Precisão média é: 0.944171913432783 e seu desvio padrão é: 0.0476446587996619 \n",
      "Revocacão média é: 0.9756958822176213 e seu desvio padrão é: 0.033535402222396954 \n",
      "F1_score médio é: 0.9592216628388275 e seu desvio padrão é: 0.03616058122937786 \n"
     ]
    }
   ],
   "source": [
    "vc = ValCruzada(X_treino, part= 10)\n",
    "vc.particionar(X_treino_escalado, y_treino)\n",
    "vc.medir(RegressaoLogistica())"
   ]
  },
  {
   "cell_type": "markdown",
   "metadata": {},
   "source": [
    "# 3. Análise de Discriminante Gaussiano"
   ]
  },
  {
   "cell_type": "code",
   "execution_count": 14,
   "metadata": {},
   "outputs": [
    {
     "name": "stdout",
     "output_type": "stream",
     "text": [
      "0.9518716577540107\n"
     ]
    }
   ],
   "source": [
    "adg = ADG()\n",
    "adg.fit(X_treino_escalado, y_treino)\n",
    "y_pred = adg.predict(X_teste_escalado)\n",
    "print(ACC(y_pred, y_teste))"
   ]
  },
  {
   "cell_type": "code",
   "execution_count": 15,
   "metadata": {},
   "outputs": [
    {
     "name": "stdout",
     "output_type": "stream",
     "text": [
      "A acurácia do modelo é de: 0.9518716577540107 \n",
      "A precisão do modelo é de: 0.9649122807017544\n",
      "A revocacão do modelo é de: 0.9565217391304348\n",
      "O f1_score do modelo é de: 0.9606986899563318\n"
     ]
    }
   ],
   "source": [
    "scores = relatorio_classificacao(y_pred, y_teste)\n",
    "scores.print_scores()"
   ]
  },
  {
   "cell_type": "code",
   "execution_count": 16,
   "metadata": {
    "scrolled": true
   },
   "outputs": [
    {
     "data": {
      "image/png": "[encoded data removed]",
      "text/plain": [
       "<Figure size 864x504 with 1 Axes>"
      ]
     },
     "metadata": {},
     "output_type": "display_data"
    }
   ],
   "source": [
    "scores.plot_scores()"
   ]
  },
  {
   "cell_type": "markdown",
   "metadata": {},
   "source": [
    "**ADG utilizando VALIDAÇÃO CRUZADA**"
   ]
  },
  {
   "cell_type": "code",
   "execution_count": 17,
   "metadata": {},
   "outputs": [
    {
     "name": "stdout",
     "output_type": "stream",
     "text": [
      "Acurácia média é: 0.9556005398110662 e seu desvio padrão é: 0.030999211546456098 \n",
      "Precisão média é: 0.9708595017065782 e seu desvio padrão é: 0.019404605473379362 \n",
      "Revocacão média é: 0.9573305518957692 e seu desvio padrão é: 0.05118783964240496 \n",
      "F1_score médio é: 0.9632206234346766 e seu desvio padrão é: 0.027695237867762408 \n"
     ]
    }
   ],
   "source": [
    "#vc = ValCruzada(X_treino, part= 10)\n",
    "#vc.particionar(X_treino_escalado, y_treino)\n",
    "vc.medir(ADG())"
   ]
  },
  {
   "cell_type": "markdown",
   "metadata": {},
   "source": [
    "# 4. Naive Bayes Gaussiano"
   ]
  },
  {
   "cell_type": "code",
   "execution_count": 18,
   "metadata": {},
   "outputs": [
    {
     "name": "stdout",
     "output_type": "stream",
     "text": [
      "0.93048128342246\n"
     ]
    }
   ],
   "source": [
    "nbg = NaiveBayesGaussiano()\n",
    "nbg.fit(X_treino_escalado, y_treino)\n",
    "y_pred = nbg.predict(X_teste_escalado)\n",
    "print(ACC(y_pred, y_teste))\n"
   ]
  },
  {
   "cell_type": "code",
   "execution_count": 19,
   "metadata": {},
   "outputs": [
    {
     "name": "stdout",
     "output_type": "stream",
     "text": [
      "A acurácia do modelo é de: 0.93048128342246 \n",
      "A precisão do modelo é de: 0.9473684210526315\n",
      "A revocacão do modelo é de: 0.9391304347826087\n",
      "O f1_score do modelo é de: 0.9432314410480349\n"
     ]
    }
   ],
   "source": [
    "scores = relatorio_classificacao(y_pred, y_teste)\n",
    "scores.print_scores()"
   ]
  },
  {
   "cell_type": "code",
   "execution_count": 20,
   "metadata": {
    "scrolled": true
   },
   "outputs": [
    {
     "data": {
      "image/png": "[encoded data removed]",
      "text/plain": [
       "<Figure size 864x504 with 1 Axes>"
      ]
     },
     "metadata": {},
     "output_type": "display_data"
    }
   ],
   "source": [
    "scores.plot_scores()"
   ]
  },
  {
   "cell_type": "markdown",
   "metadata": {},
   "source": [
    "**NaiveBayesGaussiano utilizando VALIDAÇÃO CRUZADA**"
   ]
  },
  {
   "cell_type": "code",
   "execution_count": 21,
   "metadata": {},
   "outputs": [
    {
     "name": "stdout",
     "output_type": "stream",
     "text": [
      "Acurácia média é: 0.9321862348178138 e seu desvio padrão é: 0.061666363579639644 \n",
      "Precisão média é: 0.9412884801355567 e seu desvio padrão é: 0.04727252564917158 \n",
      "Revocacão média é: 0.9490359278402757 e seu desvio padrão é: 0.06462876121413072 \n",
      "F1_score médio é: 0.9445073615896197 e seu desvio padrão é: 0.05209519090739901 \n"
     ]
    }
   ],
   "source": [
    "#vc = ValCruzada(X_treino, part= 10)\n",
    "#vc.particionar(X_treino_escalado, y_treino)\n",
    "vc.medir(NaiveBayesGaussiano())"
   ]
  },
  {
   "cell_type": "markdown",
   "metadata": {},
   "source": [
    "# 5. KNN"
   ]
  },
  {
   "cell_type": "code",
   "execution_count": 22,
   "metadata": {},
   "outputs": [
    {
     "name": "stdout",
     "output_type": "stream",
     "text": [
      "0.9893048128342246\n"
     ]
    }
   ],
   "source": [
    "knn = KNN()\n",
    "knn.fit(X_treino_escalado, y_treino)\n",
    "y_pred = knn.predict(X_teste_escalado, K=3)\n",
    "print(ACC(y_pred, y_teste))"
   ]
  },
  {
   "cell_type": "code",
   "execution_count": 23,
   "metadata": {},
   "outputs": [
    {
     "name": "stdout",
     "output_type": "stream",
     "text": [
      "A acurácia do modelo é de: 0.9893048128342246 \n",
      "A precisão do modelo é de: 0.991304347826087\n",
      "A revocacão do modelo é de: 0.991304347826087\n",
      "O f1_score do modelo é de: 0.991304347826087\n"
     ]
    }
   ],
   "source": [
    "scores = relatorio_classificacao(y_pred, y_teste)\n",
    "scores.print_scores()"
   ]
  },
  {
   "cell_type": "code",
   "execution_count": 24,
   "metadata": {
    "scrolled": true
   },
   "outputs": [
    {
     "data": {
      "image/png": "[encoded data removed]",
      "text/plain": [
       "<Figure size 864x504 with 1 Axes>"
      ]
     },
     "metadata": {},
     "output_type": "display_data"
    }
   ],
   "source": [
    "scores.plot_scores()\n"
   ]
  },
  {
   "cell_type": "markdown",
   "metadata": {},
   "source": [
    "**KNN utilizando VALIDAÇÃO CRUZADA**"
   ]
  },
  {
   "cell_type": "code",
   "execution_count": 25,
   "metadata": {
    "scrolled": true
   },
   "outputs": [
    {
     "name": "stdout",
     "output_type": "stream",
     "text": [
      "Acurácia média é: 0.9451417004048583 e seu desvio padrão é: 0.03923396302932941 \n",
      "Precisão média é: 0.9517706552706553 e seu desvio padrão é: 0.039906675090514564 \n",
      "Revocacão média é: 0.9634092356918444 e seu desvio padrão é: 0.03299148815662984 \n",
      "F1_score médio é: 0.9571226105680406 e seu desvio padrão é: 0.030413147896804504 \n"
     ]
    }
   ],
   "source": [
    "vc.medir(KNN())"
   ]
  },
  {
   "cell_type": "markdown",
   "metadata": {},
   "source": [
    "# 6. Árvores de decisão"
   ]
  },
  {
   "cell_type": "code",
   "execution_count": 26,
   "metadata": {},
   "outputs": [
    {
     "name": "stdout",
     "output_type": "stream",
     "text": [
      "0.93048128342246\n"
     ]
    }
   ],
   "source": [
    "arvore = DecisionTreeClassifier(criterion='gini')\n",
    "arvore.fit(X_treino, y_treino)\n",
    "y_pred = arvore.predict(X_teste)\n",
    "print(ACC(y_pred, y_teste))\n"
   ]
  },
  {
   "cell_type": "code",
   "execution_count": 27,
   "metadata": {},
   "outputs": [
    {
     "name": "stdout",
     "output_type": "stream",
     "text": [
      "A acurácia do modelo é de: 0.93048128342246 \n",
      "A precisão do modelo é de: 0.9473684210526315\n",
      "A revocacão do modelo é de: 0.9391304347826087\n",
      "O f1_score do modelo é de: 0.9432314410480349\n"
     ]
    }
   ],
   "source": [
    "scores = relatorio_classificacao(y_pred, y_teste)\n",
    "scores.print_scores()"
   ]
  },
  {
   "cell_type": "code",
   "execution_count": 28,
   "metadata": {
    "scrolled": true
   },
   "outputs": [
    {
     "data": {
      "image/png": "[encoded data removed]",
      "text/plain": [
       "<Figure size 864x504 with 1 Axes>"
      ]
     },
     "metadata": {},
     "output_type": "display_data"
    }
   ],
   "source": [
    "scores.plot_scores()"
   ]
  },
  {
   "cell_type": "markdown",
   "metadata": {},
   "source": [
    "**Árvores de decisão utilizando VALIDAÇÃO CRUZADA**"
   ]
  },
  {
   "cell_type": "code",
   "execution_count": 29,
   "metadata": {},
   "outputs": [
    {
     "name": "stdout",
     "output_type": "stream",
     "text": [
      "Acurácia média é: 0.9216599190283402 e seu desvio padrão é: 0.04610612436054579 \n",
      "Precisão média é: 0.9484582052408139 e seu desvio padrão é: 0.037632360278294544 \n",
      "Revocacão média é: 0.9253889829976787 e seu desvio padrão é: 0.059213556821572526 \n",
      "F1_score médio é: 0.9358731539412342 e seu desvio padrão é: 0.041545617335152676 \n"
     ]
    }
   ],
   "source": [
    "vc.particionar(X_treino, y_treino)\n",
    "vc.medir(DecisionTreeClassifier(criterion='gini'))"
   ]
  },
  {
   "cell_type": "code",
   "execution_count": 30,
   "metadata": {},
   "outputs": [
    {
     "name": "stdout",
     "output_type": "stream",
     "text": [
      "{'ccp_alpha': 0.0, 'class_weight': None, 'criterion': 'gini', 'max_depth': None, 'max_features': None, 'max_leaf_nodes': None, 'min_impurity_decrease': 0.0, 'min_impurity_split': None, 'min_samples_leaf': 1, 'min_samples_split': 2, 'min_weight_fraction_leaf': 0.0, 'presort': 'deprecated', 'random_state': None, 'splitter': 'best'}\n"
     ]
    }
   ],
   "source": [
    "print(arvore.get_params())"
   ]
  }
 ],
 "metadata": {
  "kernelspec": {
   "display_name": "Python 3",
   "language": "python",
   "name": "python3"
  },
  "language_info": {
   "codemirror_mode": {
    "name": "ipython",
    "version": 3
   },
   "file_extension": ".py",
   "mimetype": "text/x-python",
   "name": "python",
   "nbconvert_exporter": "python",
   "pygments_lexer": "ipython3",
   "version": "3.8.3"
  }
 },
 "nbformat": 4,
 "nbformat_minor": 4
}
