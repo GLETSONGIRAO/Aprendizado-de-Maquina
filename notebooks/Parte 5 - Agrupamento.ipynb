{
 "cells": [
  {
   "cell_type": "code",
   "execution_count": 7,
   "metadata": {},
   "outputs": [],
   "source": [
    "import sys\n",
    "sys.path.append('../')\n",
    "\n",
    "import pandas as pd\n",
    "import numpy as np\n",
    "import matplotlib.pyplot as plt\n",
    "\n",
    "from g_ml.utilidades.processamento import treino_teste\n",
    "from g_ml.utilidades.processamento import escala_padrao"
   ]
  },
  {
   "cell_type": "markdown",
   "metadata": {},
   "source": [
    "### Sumário\n",
    "\n",
    "1. **Preparativos**\n",
    "    - Carregamento dos dados\n",
    "    - Separação em treino e teste\n",
    "    - Padronização da escala\n",
    "    - Baseline \n",
    "\n",
    "\n",
    "2. **Regressão Logística com Gradiente Descendente**\n",
    "    - Aplicação\n",
    "    - Curva de aprendizagem\n",
    "    - Avaliação sem validação cruzada\n",
    "    - Avaliação com validação cruzada\n",
    "\n",
    "3. **Análise de Discriminante Gaussiano**\n",
    "    - Aplicação\n",
    "    - Avaliação sem validação cruzada\n",
    "    - Avaliação com validação cruzada\n",
    "    \n",
    "4. **Naive Bayes Gaussiano**\n",
    "    - Aplicação\n",
    "    - Avaliação sem validação cruzada\n",
    "    - Avaliação com validação cruzada\n",
    "    \n",
    "5. **KNN**\n",
    "    - Aplicação\n",
    "    - Avaliação sem validação cruzada\n",
    "    - Avaliação com validação cruzada\n",
    "    \n",
    "6. **Árvore de decisão**\n",
    "    - Aplicação\n",
    "    - Avaliação sem validação cruzada\n",
    "    - Avaliação com validação cruzada\n"
   ]
  },
  {
   "cell_type": "code",
   "execution_count": 1,
   "metadata": {},
   "outputs": [],
   "source": [
    "from sklearn.datasets import fetch_openml\n",
    "quake = fetch_openml(data_id='772',as_frame=True)"
   ]
  },
  {
   "cell_type": "code",
   "execution_count": 10,
   "metadata": {},
   "outputs": [],
   "source": [
    "data = quake.data.to_numpy()"
   ]
  },
  {
   "cell_type": "code",
   "execution_count": 12,
   "metadata": {},
   "outputs": [],
   "source": [
    "# Separação em treino e teste, ignorar y\n",
    "X_treino, X_teste, y_treino, y_teste = treino_teste(data, data, tamanho_teste = 0.2)"
   ]
  },
  {
   "cell_type": "code",
   "execution_count": 16,
   "metadata": {},
   "outputs": [],
   "source": [
    "escalador_X = escala_padrao()\n",
    "\n",
    "escalador_X.fit(X_treino)\n",
    "\n",
    "X_treino_escalado = escalador_X.transform(X_treino)\n",
    "X_teste_escalado = escalador_X.transform(X_teste)"
   ]
  },
  {
   "cell_type": "code",
   "execution_count": null,
   "metadata": {},
   "outputs": [],
   "source": [
    "class Kmeans():\n",
    "    def __init__(self, k=2, tol=0.001, max_iter=300):\n",
    "        self.k = k\n",
    "        self.tol = tol\n",
    "        self.max_iter = max_iter\n",
    "        "
   ]
  }
 ],
 "metadata": {
  "kernelspec": {
   "display_name": "Python 3",
   "language": "python",
   "name": "python3"
  },
  "language_info": {
   "codemirror_mode": {
    "name": "ipython",
    "version": 3
   },
   "file_extension": ".py",
   "mimetype": "text/x-python",
   "name": "python",
   "nbconvert_exporter": "python",
   "pygments_lexer": "ipython3",
   "version": "3.8.3"
  }
 },
 "nbformat": 4,
 "nbformat_minor": 4
}
