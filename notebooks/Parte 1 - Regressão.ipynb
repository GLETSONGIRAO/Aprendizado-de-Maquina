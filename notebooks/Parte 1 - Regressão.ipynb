{
 "cells": [
  {
   "cell_type": "code",
   "execution_count": 2,
   "metadata": {},
   "outputs": [
    {
     "ename": "IndentationError",
     "evalue": "unindent does not match any outer indentation level (regressao.py, line 59)",
     "output_type": "error",
     "traceback": [
      "Traceback \u001b[1;36m(most recent call last)\u001b[0m:\n",
      "  File \u001b[0;32m\"C:\\Users\\gletsong\\anaconda3\\lib\\site-packages\\IPython\\core\\interactiveshell.py\"\u001b[0m, line \u001b[0;32m3343\u001b[0m, in \u001b[0;35mrun_code\u001b[0m\n    exec(code_obj, self.user_global_ns, self.user_ns)\n",
      "\u001b[1;36m  File \u001b[1;32m\"<ipython-input-2-1bade9edd0ad>\"\u001b[1;36m, line \u001b[1;32m10\u001b[1;36m, in \u001b[1;35m<module>\u001b[1;36m\u001b[0m\n\u001b[1;33m    from g_ml.algoritmos.regressao import OLS\u001b[0m\n",
      "\u001b[1;36m  File \u001b[1;32m\"..\\g_ml\\algoritmos\\regressao.py\"\u001b[1;36m, line \u001b[1;32m59\u001b[0m\n\u001b[1;33m    def __init__(self, t=1000, taxa = 0.01):\u001b[0m\n\u001b[1;37m                                            ^\u001b[0m\n\u001b[1;31mIndentationError\u001b[0m\u001b[1;31m:\u001b[0m unindent does not match any outer indentation level\n"
     ]
    }
   ],
   "source": [
    "import sys\n",
    "sys.path.append('../')\n",
    "\n",
    "from g_ml.utilidades.metricas import MSE\n",
    "from g_ml.utilidades.metricas import MRE\n",
    "\n",
    "from g_ml.utilidades.processamento import treino_teste\n",
    "from g_ml.utilidades.processamento import escala_min_max\n",
    "\n",
    "from g_ml.algoritmos.regressao import OLS\n",
    "from g_ml.algoritmos.regressao import RegressaoGD\n",
    "from g_ml.algoritmos.regressao import SGD\n",
    "from g_ml.algoritmos.regressao import RegressaoPolinomial\n",
    "\n",
    "import pandas as pd\n",
    "import numpy as np\n",
    "import matplotlib.pyplot as plt\n",
    "\n",
    "np.random.seed(42)"
   ]
  },
  {
   "cell_type": "markdown",
   "metadata": {},
   "source": [
    "# Aplicação da Regressão linear analítica (OLS)"
   ]
  },
  {
   "cell_type": "code",
   "execution_count": null,
   "metadata": {},
   "outputs": [],
   "source": [
    "# Dados artificiais em uma dimensão\n",
    "df = pd.read_csv('../data/artificial1d.csv', names = ['x','y'])\n",
    "X = df['x'].to_numpy().reshape(-1,1)\n",
    "y = df['y'].to_numpy().reshape(-1,1)"
   ]
  },
  {
   "cell_type": "code",
   "execution_count": null,
   "metadata": {},
   "outputs": [],
   "source": [
    "ols = OLS()"
   ]
  },
  {
   "cell_type": "code",
   "execution_count": null,
   "metadata": {},
   "outputs": [],
   "source": [
    "ols.fit(X, y)"
   ]
  },
  {
   "cell_type": "code",
   "execution_count": null,
   "metadata": {},
   "outputs": [],
   "source": [
    "ols.w"
   ]
  },
  {
   "cell_type": "code",
   "execution_count": null,
   "metadata": {},
   "outputs": [],
   "source": [
    "y_pred = ols.predict(X)"
   ]
  },
  {
   "cell_type": "code",
   "execution_count": null,
   "metadata": {
    "scrolled": true
   },
   "outputs": [],
   "source": [
    "# Métricas\n",
    "mse = MSE(y, y_pred)\n",
    "mre = MRE(y, y_pred)\n",
    "rmse = np.sqrt(mse)\n",
    "\n",
    "print(\"A raiz do erro quadrático médio é: {}\".format(rmse))\n",
    "print(\"O erro relativo médio absoluto é: {}\".format(mre))\n"
   ]
  },
  {
   "cell_type": "code",
   "execution_count": null,
   "metadata": {},
   "outputs": [],
   "source": [
    "# Plotando o resultado\n",
    "X_plot = np.linspace(X.max(), X.min(), 1000)\n",
    "y_plot = ols.predict(X_plot)\n",
    "\n",
    "plt.scatter(X, y)\n",
    "plt.plot(X_plot, y_plot)\n",
    "plt.title(\"Reta de predição vs pontos alvo\")\n",
    "plt.show()"
   ]
  },
  {
   "cell_type": "markdown",
   "metadata": {},
   "source": [
    "Claramente precisamos de um modelo não linear"
   ]
  },
  {
   "cell_type": "markdown",
   "metadata": {},
   "source": [
    "# Algoritmo Gradiente Descendente (GD)"
   ]
  },
  {
   "cell_type": "code",
   "execution_count": null,
   "metadata": {},
   "outputs": [],
   "source": [
    "# Carregamento dos Dados\n",
    "df = pd.read_csv('../data/artificial1d.csv', names = ['x','y'])\n",
    "X = df['x'].to_numpy().reshape(-1,1)\n",
    "y = df['y'].to_numpy()"
   ]
  },
  {
   "cell_type": "code",
   "execution_count": null,
   "metadata": {},
   "outputs": [],
   "source": [
    "gd = RegressaoGD()"
   ]
  },
  {
   "cell_type": "code",
   "execution_count": null,
   "metadata": {},
   "outputs": [],
   "source": [
    "gd.fit(X,y)"
   ]
  },
  {
   "cell_type": "code",
   "execution_count": null,
   "metadata": {},
   "outputs": [],
   "source": [
    "gd.w"
   ]
  },
  {
   "cell_type": "code",
   "execution_count": null,
   "metadata": {},
   "outputs": [],
   "source": [
    "y_pred = gd.predict(X)"
   ]
  },
  {
   "cell_type": "code",
   "execution_count": null,
   "metadata": {},
   "outputs": [],
   "source": [
    "# Métricas\n",
    "mse = MSE(y, y_pred)\n",
    "mre = MRE(y, y_pred)\n",
    "rmse = np.sqrt(mse)\n",
    "\n",
    "print(\"A raiz do erro quadrático médio é: {}\".format(rmse))\n",
    "print(\"O erro relativo médio absoluto é: {}\".format(mre))"
   ]
  },
  {
   "cell_type": "code",
   "execution_count": null,
   "metadata": {},
   "outputs": [],
   "source": [
    "#Plotando\n",
    "X_plot = np.linspace(X.max(), X.min(), 1000)\n",
    "y_plot = gd.predict(X_plot)\n",
    "\n",
    "plt.scatter(X, y)\n",
    "plt.plot(X_plot, y_plot)\n",
    "plt.title(\"Reta de predição vs pontos alvo\")\n",
    "plt.show()"
   ]
  },
  {
   "cell_type": "code",
   "execution_count": null,
   "metadata": {},
   "outputs": [],
   "source": [
    "plt.plot(gd.custos)\n",
    "plt.xlabel('Época')\n",
    "plt.ylabel('Custo')\n",
    "plt.title('Curva de Aprendizagem')\n",
    "plt.show()"
   ]
  },
  {
   "cell_type": "markdown",
   "metadata": {},
   "source": [
    "# Algoritmo Gradiente Descendente Estocástico (SGD/LMS)"
   ]
  },
  {
   "cell_type": "code",
   "execution_count": null,
   "metadata": {},
   "outputs": [],
   "source": [
    "# Carregamento dos dados\n",
    "df = pd.read_csv('../data/artificial1d.csv', names = ['x','y'])\n",
    "X = df['x'].to_numpy().reshape(-1,1)\n",
    "y = df['y'].to_numpy()"
   ]
  },
  {
   "cell_type": "code",
   "execution_count": null,
   "metadata": {},
   "outputs": [],
   "source": [
    "sgd = SGD()\n",
    "sgd.fit(X,y)\n",
    "sgd.w"
   ]
  },
  {
   "cell_type": "code",
   "execution_count": null,
   "metadata": {},
   "outputs": [],
   "source": [
    "y_pred = sgd.predict(X)"
   ]
  },
  {
   "cell_type": "code",
   "execution_count": null,
   "metadata": {},
   "outputs": [],
   "source": [
    "# Métricas\n",
    "mse = MSE(y, y_pred)\n",
    "mre = MRE(y, y_pred)\n",
    "rmse = np.sqrt(mse)\n",
    "\n",
    "print(\"A raiz do erro quadrático médio é: {}\".format(rmse))\n",
    "print(\"O erro relativo médio absoluto é: {}\".format(mre))"
   ]
  },
  {
   "cell_type": "code",
   "execution_count": null,
   "metadata": {},
   "outputs": [],
   "source": [
    "# Plotando reta resultante\n",
    "X_plot = np.linspace(X.max(), X.min(), 1000)\n",
    "y_plot = sgd.predict(X_plot)\n",
    "\n",
    "plt.scatter(X, y)\n",
    "plt.plot(X_plot, y_plot)\n",
    "plt.title(\"Reta de predição vs pontos alvo\")\n",
    "plt.show()"
   ]
  },
  {
   "cell_type": "code",
   "execution_count": null,
   "metadata": {
    "scrolled": true
   },
   "outputs": [],
   "source": [
    "# Plotando cada iteração\n",
    "plt.plot(sgd.custos)\n",
    "plt.xlabel('Época')\n",
    "plt.ylabel('Iteração')\n",
    "plt.title('Curva de Aprendizagem')\n",
    "plt.show()"
   ]
  },
  {
   "cell_type": "markdown",
   "metadata": {},
   "source": [
    "# Regressão Polinomial"
   ]
  },
  {
   "cell_type": "markdown",
   "metadata": {},
   "source": [
    "**Sem regularização**"
   ]
  },
  {
   "cell_type": "code",
   "execution_count": null,
   "metadata": {},
   "outputs": [],
   "source": [
    "# Carregamento dos dados\n",
    "from sklearn.datasets import load_boston\n",
    "X, y = load_boston(return_X_y=True)\n"
   ]
  },
  {
   "cell_type": "code",
   "execution_count": null,
   "metadata": {},
   "outputs": [],
   "source": [
    "# Separação em treino e teste\n",
    "X_treino, X_teste, y_treino, y_teste = treino_teste(X, y, tamanho_teste = 0.2)"
   ]
  },
  {
   "cell_type": "code",
   "execution_count": null,
   "metadata": {},
   "outputs": [],
   "source": [
    "#Escalando os dados entre 0 e 1\n",
    "escalador_X_01 = escala_min_max()\n",
    "escalador_y_01 = escala_min_max()\n",
    "\n",
    "escalador_X_01.fit(X_treino)\n",
    "escalador_y_01.fit(y_treino)\n",
    "\n",
    "X_treino_01 = escalador_X_01.transform(X_treino)\n",
    "X_teste_01 = escalador_X_01.transform(X_teste)\n",
    "y_treino_01 =  escalador_y_01.transform(y_treino)\n",
    "y_teste_01 =  escalador_y_01.transform(y_teste)\n"
   ]
  },
  {
   "cell_type": "code",
   "execution_count": null,
   "metadata": {},
   "outputs": [],
   "source": [
    "#Teste\n",
    "gd = RegressaoGD()\n",
    "gd.fit(X_treino_01,y_treino_01)\n",
    "y_chapeu = gd.predict(X_teste_01)\n",
    "y_chapeu = escalador_y_01.inversa(y_chapeu)\n",
    "print(np.sqrt(MSE(y_chapeu,y_teste)))\n",
    "\n",
    "from sklearn.metrics import mean_squared_error\n",
    "print(np.sqrt(mean_squared_error(y_chapeu,y_teste)))"
   ]
  },
  {
   "cell_type": "code",
   "execution_count": null,
   "metadata": {},
   "outputs": [],
   "source": [
    "#listas com histórico dos erros\n",
    "rmse_treino = []\n",
    "mre_treino = []\n",
    "rmse_teste = []\n",
    "mre_teste = []\n",
    "\n",
    "for i in range(1,12):\n",
    "    polinomial = RegressaoPolinomial(t = 2000 ,taxa = 0.1 ,ordem = i)\n",
    "    polinomial.fit(X_treino_01, y_treino_01)\n",
    "\n",
    "    y_pred_teste_01 = polinomial.predict(X_teste_01)\n",
    "    y_pred_treino_01 = polinomial.predict(X_treino_01)\n",
    "\n",
    "    y_pred_teste = escalador_y_01.inversa(y_pred_teste_01)\n",
    "    y_pred_treino = escalador_y_01.inversa(y_pred_treino_01)\n",
    "    \n",
    "    rmse_treino.append(np.sqrt(MSE(y_pred_treino, y_treino)))\n",
    "    mre_treino.append(MRE(y_pred_treino, y_treino))\n",
    "    \n",
    "    rmse_teste.append(np.sqrt(MSE(y_pred_teste, y_teste)))\n",
    "    mre_teste.append(MRE(y_pred_teste, y_teste))  \n",
    "\n",
    "plt.plot(rmse_treino,label='Treino', marker = '*')\n",
    "plt.plot(rmse_teste,label='Teste', marker = '*')\n",
    "plt.xlabel('Ordem dos polinomios')\n",
    "plt.ylabel('RMSE')\n",
    "ticks = np.arange(0,11)\n",
    "labels = np.arange(1,12)\n",
    "plt.xticks(ticks,labels)\n",
    "plt.title(\"RMSE por Modelo\")\n",
    "plt.legend()\n",
    "plt.show()"
   ]
  },
  {
   "cell_type": "markdown",
   "metadata": {},
   "source": [
    "**Com regularização L2**"
   ]
  },
  {
   "cell_type": "code",
   "execution_count": null,
   "metadata": {},
   "outputs": [],
   "source": [
    "rmse_treino = []\n",
    "mre_treino = []\n",
    "rmse_teste = []\n",
    "mre_teste = []\n",
    "\n",
    "for i in range(1,12):\n",
    "    polinomial = RegressaoPolinomial(t = 2000, taxa = 0.1, lamb=0.25 ,ordem = i)\n",
    "    polinomial.fit(X_treino_01, y_treino_01)\n",
    "\n",
    "    y_pred_teste_01 = polinomial.predict(X_teste_01)\n",
    "    y_pred_treino_01 = polinomial.predict(X_treino_01)\n",
    "\n",
    "    y_pred_teste = escalador_y_01.inversa(y_pred_teste_01)\n",
    "    y_pred_treino = escalador_y_01.inversa(y_pred_treino_01)\n",
    "    \n",
    "    rmse_treino.append(np.sqrt(MSE(y_pred_treino, y_treino)))\n",
    "    mre_treino.append(MRE(y_pred_treino, y_treino))\n",
    "    \n",
    "    rmse_teste.append(np.sqrt(MSE(y_pred_teste, y_teste)))\n",
    "    mre_teste.append(MRE(y_pred_teste, y_teste))   \n",
    "\n",
    "\n",
    "plt.plot(rmse_treino,label='Treino', marker = '*')\n",
    "plt.plot(rmse_teste,label='Teste', marker = '*')\n",
    "plt.xlabel('Ordem dos polinomios')\n",
    "plt.ylabel('RMSE')\n",
    "ticks = np.arange(0,11)\n",
    "labels = np.arange(1,12)\n",
    "plt.xticks(ticks,labels)\n",
    "plt.title(\"RMSE por Ordem com Regularização L2\")\n",
    "plt.legend()\n",
    "plt.show()"
   ]
  },
  {
   "cell_type": "code",
   "execution_count": null,
   "metadata": {},
   "outputs": [],
   "source": []
  }
 ],
 "metadata": {
  "kernelspec": {
   "display_name": "Python 3",
   "language": "python",
   "name": "python3"
  },
  "language_info": {
   "codemirror_mode": {
    "name": "ipython",
    "version": 3
   },
   "file_extension": ".py",
   "mimetype": "text/x-python",
   "name": "python",
   "nbconvert_exporter": "python",
   "pygments_lexer": "ipython3",
   "version": "3.8.3"
  }
 },
 "nbformat": 4,
 "nbformat_minor": 4
}
