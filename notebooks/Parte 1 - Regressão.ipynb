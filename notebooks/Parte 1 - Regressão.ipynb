{
 "cells": [
  {
   "cell_type": "code",
   "execution_count": 1,
   "metadata": {},
   "outputs": [],
   "source": [
    "import sys\n",
    "sys.path.append('../')\n",
    "\n",
    "from g_ml.utilidades.metricas import MSE\n",
    "from g_ml.utilidades.metricas import MRE\n",
    "\n",
    "from g_ml.utilidades.processamento import treino_teste\n",
    "from g_ml.utilidades.processamento import escala_min_max\n",
    "\n",
    "from g_ml.algoritmos.regressao import OLS\n",
    "from g_ml.algoritmos.regressao import RegressaoGD\n",
    "from g_ml.algoritmos.regressao import SGD\n",
    "from g_ml.algoritmos.regressao import RegressaoPolinomial\n",
    "\n",
    "import pandas as pd\n",
    "import numpy as np\n",
    "import matplotlib.pyplot as plt\n",
    "\n",
    "np.random.seed(42)"
   ]
  },
  {
   "cell_type": "markdown",
   "metadata": {},
   "source": [
    "# Aplicação da Regressão linear analítica (OLS)"
   ]
  },
  {
   "cell_type": "code",
   "execution_count": 2,
   "metadata": {},
   "outputs": [],
   "source": [
    "# Dados artificiais em uma dimensão\n",
    "df = pd.read_csv('../data/artificial1d.csv', names = ['x','y'])\n",
    "X = df['x'].to_numpy().reshape(-1,1)\n",
    "y = df['y'].to_numpy().reshape(-1,1)"
   ]
  },
  {
   "cell_type": "code",
   "execution_count": 3,
   "metadata": {},
   "outputs": [],
   "source": [
    "ols = OLS()"
   ]
  },
  {
   "cell_type": "code",
   "execution_count": 4,
   "metadata": {},
   "outputs": [],
   "source": [
    "ols.fit(X, y)"
   ]
  },
  {
   "cell_type": "code",
   "execution_count": 5,
   "metadata": {},
   "outputs": [
    {
     "data": {
      "text/plain": [
       "array([[0.06761792],\n",
       "       [1.57486517]])"
      ]
     },
     "execution_count": 5,
     "metadata": {},
     "output_type": "execute_result"
    }
   ],
   "source": [
    "ols.w"
   ]
  },
  {
   "cell_type": "code",
   "execution_count": 6,
   "metadata": {},
   "outputs": [],
   "source": [
    "y_pred = ols.predict(X)"
   ]
  },
  {
   "cell_type": "code",
   "execution_count": 7,
   "metadata": {
    "scrolled": true
   },
   "outputs": [
    {
     "name": "stdout",
     "output_type": "stream",
     "text": [
      "A raiz do erro quadrático médio é: 0.461953354062258\n",
      "O erro relativo médio absoluto é: 0.5865122801771744\n"
     ]
    }
   ],
   "source": [
    "# Métricas\n",
    "mse = MSE(y, y_pred)\n",
    "mre = MRE(y, y_pred)\n",
    "rmse = np.sqrt(mse)\n",
    "\n",
    "print(\"A raiz do erro quadrático médio é: {}\".format(rmse))\n",
    "print(\"O erro relativo médio absoluto é: {}\".format(mre))\n"
   ]
  },
  {
   "cell_type": "code",
   "execution_count": 8,
   "metadata": {},
   "outputs": [
    {
     "data": {
      "image/png": "[encoded data removed]",
      "text/plain": [
       "<Figure size 432x288 with 1 Axes>"
      ]
     },
     "metadata": {
      "needs_background": "light"
     },
     "output_type": "display_data"
    }
   ],
   "source": [
    "# Plotando o resultado\n",
    "X_plot = np.linspace(X.max(), X.min(), 1000)\n",
    "y_plot = ols.predict(X_plot)\n",
    "\n",
    "plt.scatter(X, y)\n",
    "plt.plot(X_plot, y_plot)\n",
    "plt.title(\"Reta de predição vs pontos alvo\")\n",
    "plt.show()"
   ]
  },
  {
   "cell_type": "markdown",
   "metadata": {},
   "source": [
    "Claramente precisamos de um modelo não linear"
   ]
  },
  {
   "cell_type": "markdown",
   "metadata": {},
   "source": [
    "# Algoritmo Gradiente Descendente (GD)"
   ]
  },
  {
   "cell_type": "code",
   "execution_count": 9,
   "metadata": {},
   "outputs": [],
   "source": [
    "# Carregamento dos Dados\n",
    "df = pd.read_csv('../data/artificial1d.csv', names = ['x','y'])\n",
    "X = df['x'].to_numpy().reshape(-1,1)\n",
    "y = df['y'].to_numpy()"
   ]
  },
  {
   "cell_type": "code",
   "execution_count": 10,
   "metadata": {},
   "outputs": [],
   "source": [
    "gd = RegressaoGD()"
   ]
  },
  {
   "cell_type": "code",
   "execution_count": 11,
   "metadata": {},
   "outputs": [],
   "source": [
    "gd.fit(X,y)"
   ]
  },
  {
   "cell_type": "code",
   "execution_count": 12,
   "metadata": {},
   "outputs": [
    {
     "data": {
      "text/plain": [
       "array([0.06763117, 1.55728432])"
      ]
     },
     "execution_count": 12,
     "metadata": {},
     "output_type": "execute_result"
    }
   ],
   "source": [
    "gd.w"
   ]
  },
  {
   "cell_type": "code",
   "execution_count": 13,
   "metadata": {},
   "outputs": [],
   "source": [
    "y_pred = gd.predict(X)"
   ]
  },
  {
   "cell_type": "code",
   "execution_count": 14,
   "metadata": {},
   "outputs": [
    {
     "name": "stdout",
     "output_type": "stream",
     "text": [
      "A raiz do erro quadrático médio é: 0.4620725437840109\n",
      "O erro relativo médio absoluto é: 0.5814087448129349\n"
     ]
    }
   ],
   "source": [
    "# Métricas\n",
    "mse = MSE(y, y_pred)\n",
    "mre = MRE(y, y_pred)\n",
    "rmse = np.sqrt(mse)\n",
    "\n",
    "print(\"A raiz do erro quadrático médio é: {}\".format(rmse))\n",
    "print(\"O erro relativo médio absoluto é: {}\".format(mre))"
   ]
  },
  {
   "cell_type": "code",
   "execution_count": 15,
   "metadata": {},
   "outputs": [
    {
     "data": {
      "image/png": "[encoded data removed]",
      "text/plain": [
       "<Figure size 432x288 with 1 Axes>"
      ]
     },
     "metadata": {
      "needs_background": "light"
     },
     "output_type": "display_data"
    }
   ],
   "source": [
    "#Plotando\n",
    "X_plot = np.linspace(X.max(), X.min(), 1000)\n",
    "y_plot = gd.predict(X_plot)\n",
    "\n",
    "plt.scatter(X, y)\n",
    "plt.plot(X_plot, y_plot)\n",
    "plt.title(\"Reta de predição vs pontos alvo\")\n",
    "plt.show()"
   ]
  },
  {
   "cell_type": "code",
   "execution_count": 16,
   "metadata": {},
   "outputs": [
    {
     "data": {
      "image/png": "[encoded data removed]",
      "text/plain": [
       "<Figure size 432x288 with 1 Axes>"
      ]
     },
     "metadata": {
      "needs_background": "light"
     },
     "output_type": "display_data"
    }
   ],
   "source": [
    "plt.plot(gd.custos)\n",
    "plt.xlabel('Época')\n",
    "plt.ylabel('Custo')\n",
    "plt.title('Curva de Aprendizagem')\n",
    "plt.show()"
   ]
  },
  {
   "cell_type": "markdown",
   "metadata": {},
   "source": [
    "# Algoritmo Gradiente Descendente Estocástico (SGD/LMS)"
   ]
  },
  {
   "cell_type": "code",
   "execution_count": 17,
   "metadata": {},
   "outputs": [],
   "source": [
    "# Carregamento dos dados\n",
    "df = pd.read_csv('../data/artificial1d.csv', names = ['x','y'])\n",
    "X = df['x'].to_numpy().reshape(-1,1)\n",
    "y = df['y'].to_numpy()"
   ]
  },
  {
   "cell_type": "code",
   "execution_count": 18,
   "metadata": {},
   "outputs": [
    {
     "data": {
      "text/plain": [
       "array([0.06897937, 1.57545885])"
      ]
     },
     "execution_count": 18,
     "metadata": {},
     "output_type": "execute_result"
    }
   ],
   "source": [
    "sgd = SGD()\n",
    "sgd.fit(X,y)\n",
    "sgd.w"
   ]
  },
  {
   "cell_type": "code",
   "execution_count": 19,
   "metadata": {},
   "outputs": [],
   "source": [
    "y_pred = sgd.predict(X)"
   ]
  },
  {
   "cell_type": "code",
   "execution_count": 20,
   "metadata": {},
   "outputs": [
    {
     "name": "stdout",
     "output_type": "stream",
     "text": [
      "A raiz do erro quadrático médio é: 0.4619554961835902\n",
      "O erro relativo médio absoluto é: 0.586605688009825\n"
     ]
    }
   ],
   "source": [
    "# Métricas\n",
    "mse = MSE(y, y_pred)\n",
    "mre = MRE(y, y_pred)\n",
    "rmse = np.sqrt(mse)\n",
    "\n",
    "print(\"A raiz do erro quadrático médio é: {}\".format(rmse))\n",
    "print(\"O erro relativo médio absoluto é: {}\".format(mre))"
   ]
  },
  {
   "cell_type": "code",
   "execution_count": 21,
   "metadata": {},
   "outputs": [
    {
     "data": {
      "image/png": "[encoded data removed]",
      "text/plain": [
       "<Figure size 432x288 with 1 Axes>"
      ]
     },
     "metadata": {
      "needs_background": "light"
     },
     "output_type": "display_data"
    }
   ],
   "source": [
    "# Plotando reta resultante\n",
    "X_plot = np.linspace(X.max(), X.min(), 1000)\n",
    "y_plot = sgd.predict(X_plot)\n",
    "\n",
    "plt.scatter(X, y)\n",
    "plt.plot(X_plot, y_plot)\n",
    "plt.title(\"Reta de predição vs pontos alvo\")\n",
    "plt.show()"
   ]
  },
  {
   "cell_type": "code",
   "execution_count": 22,
   "metadata": {
    "scrolled": true
   },
   "outputs": [
    {
     "data": {
      "image/png": "[encoded data removed]",
      "text/plain": [
       "<Figure size 432x288 with 1 Axes>"
      ]
     },
     "metadata": {
      "needs_background": "light"
     },
     "output_type": "display_data"
    }
   ],
   "source": [
    "# Plotando cada iteração\n",
    "plt.plot(sgd.custos)\n",
    "plt.xlabel('Época')\n",
    "plt.ylabel('Iteração')\n",
    "plt.title('Curva de Aprendizagem')\n",
    "plt.show()"
   ]
  },
  {
   "cell_type": "markdown",
   "metadata": {},
   "source": [
    "# Regressão Polinomial"
   ]
  },
  {
   "cell_type": "markdown",
   "metadata": {},
   "source": [
    "**Sem regularização**"
   ]
  },
  {
   "cell_type": "code",
   "execution_count": 23,
   "metadata": {},
   "outputs": [],
   "source": [
    "# Carregamento dos dados\n",
    "from sklearn.datasets import load_boston\n",
    "X, y = load_boston(return_X_y=True)\n"
   ]
  },
  {
   "cell_type": "code",
   "execution_count": 24,
   "metadata": {},
   "outputs": [],
   "source": [
    "# Separação em treino e teste\n",
    "X_treino, X_teste, y_treino, y_teste = treino_teste(X, y, tamanho_teste = 0.2)"
   ]
  },
  {
   "cell_type": "code",
   "execution_count": 25,
   "metadata": {},
   "outputs": [],
   "source": [
    "#Escalando os dados entre 0 e 1\n",
    "escalador_X_01 = escala_min_max()\n",
    "escalador_y_01 = escala_min_max()\n",
    "\n",
    "escalador_X_01.fit(X_treino)\n",
    "escalador_y_01.fit(y_treino)\n",
    "\n",
    "X_treino_01 = escalador_X_01.transform(X_treino)\n",
    "X_teste_01 = escalador_X_01.transform(X_teste)\n",
    "y_treino_01 =  escalador_y_01.transform(y_treino)\n",
    "y_teste_01 =  escalador_y_01.transform(y_teste)\n"
   ]
  },
  {
   "cell_type": "code",
   "execution_count": 26,
   "metadata": {},
   "outputs": [
    {
     "name": "stdout",
     "output_type": "stream",
     "text": [
      "8.802228535855516\n",
      "8.802228535855516\n"
     ]
    }
   ],
   "source": [
    "#Teste\n",
    "gd = RegressaoGD()\n",
    "gd.fit(X_treino_01,y_treino_01)\n",
    "y_chapeu = gd.predict(X_teste_01)\n",
    "y_chapeu = escalador_y_01.inversa(y_chapeu)\n",
    "print(np.sqrt(MSE(y_chapeu,y_teste)))\n",
    "\n",
    "from sklearn.metrics import mean_squared_error\n",
    "print(np.sqrt(mean_squared_error(y_chapeu,y_teste)))"
   ]
  },
  {
   "cell_type": "code",
   "execution_count": 27,
   "metadata": {},
   "outputs": [
    {
     "data": {
      "image/png": "[encoded data removed]",
      "text/plain": [
       "<Figure size 432x288 with 1 Axes>"
      ]
     },
     "metadata": {
      "needs_background": "light"
     },
     "output_type": "display_data"
    }
   ],
   "source": [
    "#listas com histórico dos erros\n",
    "rmse_treino = []\n",
    "mre_treino = []\n",
    "rmse_teste = []\n",
    "mre_teste = []\n",
    "\n",
    "for i in range(1,12):\n",
    "    polinomial = RegressaoPolinomial(t = 2000 ,taxa = 0.1 ,ordem = i)\n",
    "    polinomial.fit(X_treino_01, y_treino_01)\n",
    "\n",
    "    y_pred_teste_01 = polinomial.predict(X_teste_01)\n",
    "    y_pred_treino_01 = polinomial.predict(X_treino_01)\n",
    "\n",
    "    y_pred_teste = escalador_y_01.inversa(y_pred_teste_01)\n",
    "    y_pred_treino = escalador_y_01.inversa(y_pred_treino_01)\n",
    "    \n",
    "    rmse_treino.append(np.sqrt(MSE(y_pred_treino, y_treino)))\n",
    "    mre_treino.append(MRE(y_pred_treino, y_treino))\n",
    "    \n",
    "    rmse_teste.append(np.sqrt(MSE(y_pred_teste, y_teste)))\n",
    "    mre_teste.append(MRE(y_pred_teste, y_teste))  \n",
    "\n",
    "plt.plot(rmse_treino,label='Treino', marker = '*')\n",
    "plt.plot(rmse_teste,label='Teste', marker = '*')\n",
    "plt.xlabel('Ordem dos polinomios')\n",
    "plt.ylabel('RMSE')\n",
    "ticks = np.arange(0,11)\n",
    "labels = np.arange(1,12)\n",
    "plt.xticks(ticks,labels)\n",
    "plt.title(\"RMSE por Modelo\")\n",
    "plt.legend()\n",
    "plt.show()"
   ]
  },
  {
   "cell_type": "markdown",
   "metadata": {},
   "source": [
    "**Com regularização L2**"
   ]
  },
  {
   "cell_type": "code",
   "execution_count": 28,
   "metadata": {},
   "outputs": [
    {
     "data": {
      "image/png": "[encoded data removed]",
      "text/plain": [
       "<Figure size 432x288 with 1 Axes>"
      ]
     },
     "metadata": {
      "needs_background": "light"
     },
     "output_type": "display_data"
    }
   ],
   "source": [
    "rmse_treino = []\n",
    "mre_treino = []\n",
    "rmse_teste = []\n",
    "mre_teste = []\n",
    "\n",
    "for i in range(1,12):\n",
    "    polinomial = RegressaoPolinomial(t = 2000, taxa = 0.1, lamb=0.25 ,ordem = i)\n",
    "    polinomial.fit(X_treino_01, y_treino_01)\n",
    "\n",
    "    y_pred_teste_01 = polinomial.predict(X_teste_01)\n",
    "    y_pred_treino_01 = polinomial.predict(X_treino_01)\n",
    "\n",
    "    y_pred_teste = escalador_y_01.inversa(y_pred_teste_01)\n",
    "    y_pred_treino = escalador_y_01.inversa(y_pred_treino_01)\n",
    "    \n",
    "    rmse_treino.append(np.sqrt(MSE(y_pred_treino, y_treino)))\n",
    "    mre_treino.append(MRE(y_pred_treino, y_treino))\n",
    "    \n",
    "    rmse_teste.append(np.sqrt(MSE(y_pred_teste, y_teste)))\n",
    "    mre_teste.append(MRE(y_pred_teste, y_teste))   \n",
    "\n",
    "\n",
    "plt.plot(rmse_treino,label='Treino', marker = '*')\n",
    "plt.plot(rmse_teste,label='Teste', marker = '*')\n",
    "plt.xlabel('Ordem dos polinomios')\n",
    "plt.ylabel('RMSE')\n",
    "ticks = np.arange(0,11)\n",
    "labels = np.arange(1,12)\n",
    "plt.xticks(ticks,labels)\n",
    "plt.title(\"RMSE por Ordem com Regularização L2\")\n",
    "plt.legend()\n",
    "plt.show()"
   ]
  },
  {
   "cell_type": "code",
   "execution_count": null,
   "metadata": {},
   "outputs": [],
   "source": []
  }
 ],
 "metadata": {
  "kernelspec": {
   "display_name": "Python 3",
   "language": "python",
   "name": "python3"
  },
  "language_info": {
   "codemirror_mode": {
    "name": "ipython",
    "version": 3
   },
   "file_extension": ".py",
   "mimetype": "text/x-python",
   "name": "python",
   "nbconvert_exporter": "python",
   "pygments_lexer": "ipython3",
   "version": "3.8.3"
  }
 },
 "nbformat": 4,
 "nbformat_minor": 4
}
